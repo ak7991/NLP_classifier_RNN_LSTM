{
  "cells": [
    {
      "cell_type": "markdown",
      "metadata": {
        "id": "view-in-github",
        "colab_type": "text"
      },
      "source": [
        "<a href=\"https://colab.research.google.com/github/ak7991/NLP_classifier_RNN_LSTM/blob/main/text_classification_lstm_rnn.ipynb\" target=\"_parent\"><img src=\"https://colab.research.google.com/assets/colab-badge.svg\" alt=\"Open In Colab\"/></a>"
      ]
    },
    {
      "cell_type": "markdown",
      "metadata": {
        "id": "ytrf_gpy5vA9"
      },
      "source": [
        "# Introduction\n",
        "\n",
        "Text is one of the most widespread forms of sequence data. It can be understood as either a sequence of charactors or a sequence of words, but it's most common to work at level of words. Text-sequence processing includes following applications:\n",
        "\n",
        "**Applications of deep learning for text data:**\n",
        "1. Document classification\n",
        "2. Articles lebelling\n",
        "3. Sentiment analysis\n",
        "4. Author identification\n",
        "5. Question-answering\n",
        "6. Language detection\n",
        "7. Translation Tasks\n",
        "\n",
        "- In true sense `deep learning models map the statistical structure of written language,` which is sufficient to solve many simple textual tasks and problems.\n",
        "- Deep learning for natural-language processing is `pattern recognition applied to words, sequence, and paragraphs,` in much similar way that computer vision is pattern recognition applied to pixels.\n",
        "- Deep-learning models don't take input as text like other models they only work with numeric tensors\n",
        "\n",
        "**Three techniques to vectorize the text data:**\n",
        "1. Segment text into words, and convert word into a vector\n",
        "2. Segment text into charactors, and transform each chractors into a vector.\n",
        "3. Extract n-grams of words, and transform each n-grams into a vector.\n",
        "\n",
        "- There are many ways one can convert text to vector and it depends on what models one is using along with time or resources utilization.\n",
        "\n",
        "**Typical workflow to prepare text data for machine learning models:**\n",
        "1. Tokenization\n",
        "2. One-Hot encoding or word indexing\n",
        "3. Pad sequencing \n",
        "4. Embedding layer (Word2Vec)\n",
        "5. Corresponding word vector\n",
        "\n",
        "- In this notebook, we are going to explore and solve news classification problem to classify 41 types of news headlines and news descriptions.\n",
        "\n",
        "**Use-case:** Such text classification models are used in `News Apps` or by reporter to classify news topics for better reach to right audience.\n",
        "\n",
        "**Problem-statement:** Build `news classification model` using deep learning teechniques and deploy model for reporters to classify and label news articles.\n",
        "\n",
        "*Reference: Deep learning with python by Francois Chollet*"
      ]
    },
    {
      "cell_type": "markdown",
      "metadata": {
        "id": "b51IsN4b5vBC"
      },
      "source": [
        "# Table of contents:\n",
        "\n",
        "0. [Importing libraries](#lib)\n",
        "1. [Data exploration and pre-processing](#eda)\n",
        "\n",
        "  - [Profiling report of dataset](#pp)\n",
        "  - [Text data visualization](#td)\n",
        "  - [Text data pre-processing](#tdp)\n",
        "  \n",
        "  \n",
        "2. [Tokenization and vectorization](#tv)\n",
        "3. [What are the word embeddings?](#we)\n",
        "4. [Model training using EmbeddingLayer,RNNs and LSTMs](#rnn) \n",
        "\n",
        "  - [Baseline model 1](#base)\n",
        "  - [What are the RNNs?](#rnets)\n",
        "  - [Model training using LSTM](#model2)\n",
        "  - [Loss and accuracy curve](#loss)\n",
        "  \n",
        "  \n",
        "5. [Conclusion](#conclude)"
      ]
    },
    {
      "cell_type": "markdown",
      "metadata": {
        "id": "zjeKG2ds5vDd"
      },
      "source": [
        "# 0. Importing libraries\n",
        "\n",
        "<a id=\"lib\"></a>\n"
      ]
    },
    {
      "cell_type": "code",
      "execution_count": 106,
      "metadata": {
        "id": "VJy2xKdu5vDe"
      },
      "outputs": [],
      "source": [
        "from nltk.stem.wordnet import WordNetLemmatizer"
      ]
    },
    {
      "cell_type": "code",
      "execution_count": 107,
      "metadata": {
        "id": "U_s1flKO5vDf"
      },
      "outputs": [],
      "source": [
        "import os\n",
        "import re\n",
        "\n",
        "import numpy as np\n",
        "import pandas as pd \n",
        "import pandas_profiling as pp\n",
        "\n",
        "import matplotlib.pyplot as plt\n",
        "import seaborn as sns\n",
        "\n",
        "import nltk\n",
        "\n",
        "from markupsafe import escape\n",
        "from wordcloud import WordCloud, STOPWORDS\n",
        "from nltk.corpus import stopwords\n",
        "from nltk.stem.wordnet import WordNetLemmatizer\n",
        "import tensorflow as tf\n",
        "from tensorflow import keras\n",
        "from keras.callbacks import ModelCheckpoint\n",
        "from keras.preprocessing.text import Tokenizer\n",
        "from sklearn.model_selection import train_test_split, cross_val_score\n",
        "from tensorflow.keras.preprocessing.sequence import pad_sequences\n",
        "from tensorflow.keras.utils import to_categorical\n",
        "from sklearn.preprocessing import LabelEncoder\n",
        "\n",
        "# model building imports\n",
        "from keras.layers import Embedding, Flatten, Dense, Dropout\n",
        "from keras.layers import Conv1D, SimpleRNN, Bidirectional, MaxPooling1D, GlobalMaxPool1D, LSTM, GRU\n",
        "from keras.models import Sequential\n",
        "from keras.regularizers import L1L2\n"
      ]
    },
    {
      "cell_type": "code",
      "execution_count": 108,
      "metadata": {
        "colab": {
          "base_uri": "https://localhost:8080/"
        },
        "id": "952dXWEPn5sc",
        "outputId": "50e40f8b-16c8-41ca-f8f4-38a22d8dac8b"
      },
      "outputs": [
        {
          "output_type": "stream",
          "name": "stderr",
          "text": [
            "[nltk_data] Downloading package omw-1.4 to /root/nltk_data...\n",
            "[nltk_data]   Package omw-1.4 is already up-to-date!\n",
            "[nltk_data] Downloading package wordnet to /root/nltk_data...\n",
            "[nltk_data]   Package wordnet is already up-to-date!\n"
          ]
        }
      ],
      "source": [
        "# Configs\n",
        "%matplotlib inline\n",
        "\n",
        "# matplotlib defaults\n",
        "plt.style.use(\"ggplot\")\n",
        "plt.rc(\"figure\", autolayout=True)\n",
        "plt.rc(\n",
        "    \"axes\",\n",
        "    labelweight=\"bold\",\n",
        "    labelsize=\"large\",\n",
        "    titleweight=\"bold\",\n",
        "    titlesize=14,\n",
        "    titlepad=10,\n",
        ")\n",
        "\n",
        "import warnings \n",
        "warnings.filterwarnings('ignore')\n",
        "nltk.download('omw-1.4')\n",
        "nltk.download('wordnet')\n",
        "os.environ['TF_CPP_MIN_LOG_LEVEL'] = '2'"
      ]
    },
    {
      "cell_type": "markdown",
      "metadata": {
        "id": "YjFPKEqh5vDh"
      },
      "source": [
        "# 1. Data exploration and pre-processing\n",
        "\n",
        "<a id=\"eda\"></a>\n"
      ]
    },
    {
      "cell_type": "code",
      "execution_count": 109,
      "metadata": {
        "colab": {
          "base_uri": "https://localhost:8080/",
          "height": 250
        },
        "id": "h3Fa2uJirGr3",
        "outputId": "5c23aeb3-67f7-4dec-aefb-6e01cd7893f7"
      },
      "outputs": [
        {
          "output_type": "execute_result",
          "data": {
            "text/plain": [
              "   Unnamed: 0                                               link  \\\n",
              "0           0  https://www.huffpost.com/entry/covid-boosters-...   \n",
              "1           1  https://www.huffpost.com/entry/american-airlin...   \n",
              "2           2  https://www.huffpost.com/entry/funniest-tweets...   \n",
              "3           3  https://www.huffpost.com/entry/funniest-parent...   \n",
              "4           4  https://www.huffpost.com/entry/amy-cooper-lose...   \n",
              "\n",
              "                                            headline   category  \\\n",
              "0  Over 4 Million Americans Roll Up Sleeves For O...  U.S. NEWS   \n",
              "1  American Airlines Flyer Charged, Banned For Li...  U.S. NEWS   \n",
              "2  23 Of The Funniest Tweets About Cats And Dogs ...     COMEDY   \n",
              "3  The Funniest Tweets From Parents This Week (Se...  PARENTING   \n",
              "4  Woman Who Called Cops On Black Bird-Watcher Lo...  U.S. NEWS   \n",
              "\n",
              "                                   short_description               authors  \\\n",
              "0  Health experts said it is too early to predict...  Carla K. Johnson, AP   \n",
              "1  He was subdued by passengers and crew when he ...        Mary Papenfuss   \n",
              "2  \"Until you have a dog you don't understand wha...         Elyse Wanshel   \n",
              "3  \"Accidentally put grown-up toothpaste on my to...      Caroline Bologna   \n",
              "4  Amy Cooper accused investment firm Franklin Te...        Nina Golgowski   \n",
              "\n",
              "         date  \n",
              "0  2022-09-23  \n",
              "1  2022-09-23  \n",
              "2  2022-09-23  \n",
              "3  2022-09-23  \n",
              "4  2022-09-22  "
            ],
            "text/html": [
              "\n",
              "  <div id=\"df-2fc8ff8f-6b02-4664-9a91-5bc2999acc06\">\n",
              "    <div class=\"colab-df-container\">\n",
              "      <div>\n",
              "<style scoped>\n",
              "    .dataframe tbody tr th:only-of-type {\n",
              "        vertical-align: middle;\n",
              "    }\n",
              "\n",
              "    .dataframe tbody tr th {\n",
              "        vertical-align: top;\n",
              "    }\n",
              "\n",
              "    .dataframe thead th {\n",
              "        text-align: right;\n",
              "    }\n",
              "</style>\n",
              "<table border=\"1\" class=\"dataframe\">\n",
              "  <thead>\n",
              "    <tr style=\"text-align: right;\">\n",
              "      <th></th>\n",
              "      <th>Unnamed: 0</th>\n",
              "      <th>link</th>\n",
              "      <th>headline</th>\n",
              "      <th>category</th>\n",
              "      <th>short_description</th>\n",
              "      <th>authors</th>\n",
              "      <th>date</th>\n",
              "    </tr>\n",
              "  </thead>\n",
              "  <tbody>\n",
              "    <tr>\n",
              "      <th>0</th>\n",
              "      <td>0</td>\n",
              "      <td>https://www.huffpost.com/entry/covid-boosters-...</td>\n",
              "      <td>Over 4 Million Americans Roll Up Sleeves For O...</td>\n",
              "      <td>U.S. NEWS</td>\n",
              "      <td>Health experts said it is too early to predict...</td>\n",
              "      <td>Carla K. Johnson, AP</td>\n",
              "      <td>2022-09-23</td>\n",
              "    </tr>\n",
              "    <tr>\n",
              "      <th>1</th>\n",
              "      <td>1</td>\n",
              "      <td>https://www.huffpost.com/entry/american-airlin...</td>\n",
              "      <td>American Airlines Flyer Charged, Banned For Li...</td>\n",
              "      <td>U.S. NEWS</td>\n",
              "      <td>He was subdued by passengers and crew when he ...</td>\n",
              "      <td>Mary Papenfuss</td>\n",
              "      <td>2022-09-23</td>\n",
              "    </tr>\n",
              "    <tr>\n",
              "      <th>2</th>\n",
              "      <td>2</td>\n",
              "      <td>https://www.huffpost.com/entry/funniest-tweets...</td>\n",
              "      <td>23 Of The Funniest Tweets About Cats And Dogs ...</td>\n",
              "      <td>COMEDY</td>\n",
              "      <td>\"Until you have a dog you don't understand wha...</td>\n",
              "      <td>Elyse Wanshel</td>\n",
              "      <td>2022-09-23</td>\n",
              "    </tr>\n",
              "    <tr>\n",
              "      <th>3</th>\n",
              "      <td>3</td>\n",
              "      <td>https://www.huffpost.com/entry/funniest-parent...</td>\n",
              "      <td>The Funniest Tweets From Parents This Week (Se...</td>\n",
              "      <td>PARENTING</td>\n",
              "      <td>\"Accidentally put grown-up toothpaste on my to...</td>\n",
              "      <td>Caroline Bologna</td>\n",
              "      <td>2022-09-23</td>\n",
              "    </tr>\n",
              "    <tr>\n",
              "      <th>4</th>\n",
              "      <td>4</td>\n",
              "      <td>https://www.huffpost.com/entry/amy-cooper-lose...</td>\n",
              "      <td>Woman Who Called Cops On Black Bird-Watcher Lo...</td>\n",
              "      <td>U.S. NEWS</td>\n",
              "      <td>Amy Cooper accused investment firm Franklin Te...</td>\n",
              "      <td>Nina Golgowski</td>\n",
              "      <td>2022-09-22</td>\n",
              "    </tr>\n",
              "  </tbody>\n",
              "</table>\n",
              "</div>\n",
              "      <button class=\"colab-df-convert\" onclick=\"convertToInteractive('df-2fc8ff8f-6b02-4664-9a91-5bc2999acc06')\"\n",
              "              title=\"Convert this dataframe to an interactive table.\"\n",
              "              style=\"display:none;\">\n",
              "        \n",
              "  <svg xmlns=\"http://www.w3.org/2000/svg\" height=\"24px\"viewBox=\"0 0 24 24\"\n",
              "       width=\"24px\">\n",
              "    <path d=\"M0 0h24v24H0V0z\" fill=\"none\"/>\n",
              "    <path d=\"M18.56 5.44l.94 2.06.94-2.06 2.06-.94-2.06-.94-.94-2.06-.94 2.06-2.06.94zm-11 1L8.5 8.5l.94-2.06 2.06-.94-2.06-.94L8.5 2.5l-.94 2.06-2.06.94zm10 10l.94 2.06.94-2.06 2.06-.94-2.06-.94-.94-2.06-.94 2.06-2.06.94z\"/><path d=\"M17.41 7.96l-1.37-1.37c-.4-.4-.92-.59-1.43-.59-.52 0-1.04.2-1.43.59L10.3 9.45l-7.72 7.72c-.78.78-.78 2.05 0 2.83L4 21.41c.39.39.9.59 1.41.59.51 0 1.02-.2 1.41-.59l7.78-7.78 2.81-2.81c.8-.78.8-2.07 0-2.86zM5.41 20L4 18.59l7.72-7.72 1.47 1.35L5.41 20z\"/>\n",
              "  </svg>\n",
              "      </button>\n",
              "      \n",
              "  <style>\n",
              "    .colab-df-container {\n",
              "      display:flex;\n",
              "      flex-wrap:wrap;\n",
              "      gap: 12px;\n",
              "    }\n",
              "\n",
              "    .colab-df-convert {\n",
              "      background-color: #E8F0FE;\n",
              "      border: none;\n",
              "      border-radius: 50%;\n",
              "      cursor: pointer;\n",
              "      display: none;\n",
              "      fill: #1967D2;\n",
              "      height: 32px;\n",
              "      padding: 0 0 0 0;\n",
              "      width: 32px;\n",
              "    }\n",
              "\n",
              "    .colab-df-convert:hover {\n",
              "      background-color: #E2EBFA;\n",
              "      box-shadow: 0px 1px 2px rgba(60, 64, 67, 0.3), 0px 1px 3px 1px rgba(60, 64, 67, 0.15);\n",
              "      fill: #174EA6;\n",
              "    }\n",
              "\n",
              "    [theme=dark] .colab-df-convert {\n",
              "      background-color: #3B4455;\n",
              "      fill: #D2E3FC;\n",
              "    }\n",
              "\n",
              "    [theme=dark] .colab-df-convert:hover {\n",
              "      background-color: #434B5C;\n",
              "      box-shadow: 0px 1px 3px 1px rgba(0, 0, 0, 0.15);\n",
              "      filter: drop-shadow(0px 1px 2px rgba(0, 0, 0, 0.3));\n",
              "      fill: #FFFFFF;\n",
              "    }\n",
              "  </style>\n",
              "\n",
              "      <script>\n",
              "        const buttonEl =\n",
              "          document.querySelector('#df-2fc8ff8f-6b02-4664-9a91-5bc2999acc06 button.colab-df-convert');\n",
              "        buttonEl.style.display =\n",
              "          google.colab.kernel.accessAllowed ? 'block' : 'none';\n",
              "\n",
              "        async function convertToInteractive(key) {\n",
              "          const element = document.querySelector('#df-2fc8ff8f-6b02-4664-9a91-5bc2999acc06');\n",
              "          const dataTable =\n",
              "            await google.colab.kernel.invokeFunction('convertToInteractive',\n",
              "                                                     [key], {});\n",
              "          if (!dataTable) return;\n",
              "\n",
              "          const docLinkHtml = 'Like what you see? Visit the ' +\n",
              "            '<a target=\"_blank\" href=https://colab.research.google.com/notebooks/data_table.ipynb>data table notebook</a>'\n",
              "            + ' to learn more about interactive tables.';\n",
              "          element.innerHTML = '';\n",
              "          dataTable['output_type'] = 'display_data';\n",
              "          await google.colab.output.renderOutput(dataTable, element);\n",
              "          const docLink = document.createElement('div');\n",
              "          docLink.innerHTML = docLinkHtml;\n",
              "          element.appendChild(docLink);\n",
              "        }\n",
              "      </script>\n",
              "    </div>\n",
              "  </div>\n",
              "  "
            ]
          },
          "metadata": {},
          "execution_count": 109
        }
      ],
      "source": [
        "filename = \"news_category.csv\"\n",
        "df = pd.read_csv(filename)\n",
        "df.head()"
      ]
    },
    {
      "cell_type": "code",
      "execution_count": 110,
      "metadata": {
        "id": "Z9BQgdqwXNPv"
      },
      "outputs": [],
      "source": [
        "# Define columns\n",
        "# Irrelavant columns\n",
        "UNWANTED_COLUMNS = ['authors','link','date']\n",
        "\n",
        "# Relavant columns\n",
        "FEATURE_COLUMNS = ['headline', 'short_description']\n",
        "\n",
        "# concat if multiple targets\n",
        "TARGET_COLUMN = 'category'"
      ]
    },
    {
      "cell_type": "code",
      "execution_count": 111,
      "metadata": {
        "colab": {
          "base_uri": "https://localhost:8080/"
        },
        "id": "tNQEmMwI5vDk",
        "outputId": "3530b594-7848-4bb1-c78c-f3764bcc3a56"
      },
      "outputs": [
        {
          "output_type": "stream",
          "name": "stdout",
          "text": [
            "(209527, 7)\n",
            "Unique category: 42\n",
            "Distinct category: ['U.S. NEWS' 'COMEDY' 'PARENTING' 'WORLD NEWS' 'CULTURE & ARTS' 'TECH'\n",
            " 'SPORTS' 'ENTERTAINMENT' 'POLITICS' 'WEIRD NEWS' 'ENVIRONMENT'\n",
            " 'EDUCATION' 'CRIME' 'SCIENCE' 'WELLNESS' 'BUSINESS' 'STYLE & BEAUTY'\n",
            " 'FOOD & DRINK' 'MEDIA' 'QUEER VOICES' 'HOME & LIVING' 'WOMEN'\n",
            " 'BLACK VOICES' 'TRAVEL' 'MONEY' 'RELIGION' 'LATINO VOICES' 'IMPACT'\n",
            " 'WEDDINGS' 'COLLEGE' 'PARENTS' 'ARTS & CULTURE' 'STYLE' 'GREEN' 'TASTE'\n",
            " 'HEALTHY LIVING' 'THE WORLDPOST' 'GOOD NEWS' 'WORLDPOST' 'FIFTY' 'ARTS'\n",
            " 'DIVORCE']\n",
            "-------------------------------------------------\n",
            "<class 'pandas.core.frame.DataFrame'>\n",
            "RangeIndex: 209527 entries, 0 to 209526\n",
            "Data columns (total 7 columns):\n",
            " #   Column             Non-Null Count   Dtype \n",
            "---  ------             --------------   ----- \n",
            " 0   Unnamed: 0         209527 non-null  int64 \n",
            " 1   link               209527 non-null  object\n",
            " 2   headline           209521 non-null  object\n",
            " 3   category           209527 non-null  object\n",
            " 4   short_description  189815 non-null  object\n",
            " 5   authors            172109 non-null  object\n",
            " 6   date               209527 non-null  object\n",
            "dtypes: int64(1), object(6)\n",
            "memory usage: 11.2+ MB\n"
          ]
        }
      ],
      "source": [
        "# shape of the dataset\n",
        "print(df.shape)\n",
        "# total number of unique categories\n",
        "print(f\"Unique {TARGET_COLUMN}:\", df['category'].nunique())\n",
        "print(f\"Distinct {TARGET_COLUMN}:\", df['category'].unique())\n",
        "print(\"-------------------------------------------------\")\n",
        "# information about metadata\n",
        "df.info()"
      ]
    },
    {
      "cell_type": "code",
      "execution_count": 112,
      "metadata": {
        "colab": {
          "base_uri": "https://localhost:8080/",
          "height": 308
        },
        "id": "n8V-R8qL5vDl",
        "outputId": "5b07a294-6e53-468f-c0b3-b636f13ca664"
      },
      "outputs": [
        {
          "output_type": "execute_result",
          "data": {
            "text/plain": [
              "<pandas.io.formats.style.Styler at 0x7f7e25226d60>"
            ],
            "text/html": [
              "<style type=\"text/css\">\n",
              "#T_a5f22_row0_col0, #T_a5f22_row1_col0, #T_a5f22_row2_col0, #T_a5f22_row3_col0, #T_a5f22_row4_col0, #T_a5f22_row5_col0, #T_a5f22_row6_col0, #T_a5f22_row7_col0 {\n",
              "  background-color: #F0F0F0;\n",
              "  color: #222222;\n",
              "  border: 1.5px  solid black;\n",
              "}\n",
              "</style>\n",
              "<table id=\"T_a5f22\" class=\"dataframe\">\n",
              "  <thead>\n",
              "    <tr>\n",
              "      <th class=\"blank level0\" >&nbsp;</th>\n",
              "      <th id=\"T_a5f22_level0_col0\" class=\"col_heading level0 col0\" >Unnamed: 0</th>\n",
              "    </tr>\n",
              "  </thead>\n",
              "  <tbody>\n",
              "    <tr>\n",
              "      <th id=\"T_a5f22_level0_row0\" class=\"row_heading level0 row0\" >count</th>\n",
              "      <td id=\"T_a5f22_row0_col0\" class=\"data row0 col0\" >209527.000000</td>\n",
              "    </tr>\n",
              "    <tr>\n",
              "      <th id=\"T_a5f22_level0_row1\" class=\"row_heading level0 row1\" >mean</th>\n",
              "      <td id=\"T_a5f22_row1_col0\" class=\"data row1 col0\" >104763.000000</td>\n",
              "    </tr>\n",
              "    <tr>\n",
              "      <th id=\"T_a5f22_level0_row2\" class=\"row_heading level0 row2\" >std</th>\n",
              "      <td id=\"T_a5f22_row2_col0\" class=\"data row2 col0\" >60485.379264</td>\n",
              "    </tr>\n",
              "    <tr>\n",
              "      <th id=\"T_a5f22_level0_row3\" class=\"row_heading level0 row3\" >min</th>\n",
              "      <td id=\"T_a5f22_row3_col0\" class=\"data row3 col0\" >0.000000</td>\n",
              "    </tr>\n",
              "    <tr>\n",
              "      <th id=\"T_a5f22_level0_row4\" class=\"row_heading level0 row4\" >25%</th>\n",
              "      <td id=\"T_a5f22_row4_col0\" class=\"data row4 col0\" >52381.500000</td>\n",
              "    </tr>\n",
              "    <tr>\n",
              "      <th id=\"T_a5f22_level0_row5\" class=\"row_heading level0 row5\" >50%</th>\n",
              "      <td id=\"T_a5f22_row5_col0\" class=\"data row5 col0\" >104763.000000</td>\n",
              "    </tr>\n",
              "    <tr>\n",
              "      <th id=\"T_a5f22_level0_row6\" class=\"row_heading level0 row6\" >75%</th>\n",
              "      <td id=\"T_a5f22_row6_col0\" class=\"data row6 col0\" >157144.500000</td>\n",
              "    </tr>\n",
              "    <tr>\n",
              "      <th id=\"T_a5f22_level0_row7\" class=\"row_heading level0 row7\" >max</th>\n",
              "      <td id=\"T_a5f22_row7_col0\" class=\"data row7 col0\" >209526.000000</td>\n",
              "    </tr>\n",
              "  </tbody>\n",
              "</table>\n"
            ]
          },
          "metadata": {},
          "execution_count": 112
        }
      ],
      "source": [
        "# general descrption of dataset\n",
        "df.describe().style.set_properties(**{'background-color': '#F0F0F0',\n",
        "                                    'color': '#222222',\n",
        "                                    'border': '1.5px  solid black'})"
      ]
    },
    {
      "cell_type": "markdown",
      "metadata": {
        "id": "W9cinGCT5vDm"
      },
      "source": [
        "## 1.1 Profiling report of dataset\n",
        "\n",
        "<a id=\"pp\"></a>\n"
      ]
    },
    {
      "cell_type": "code",
      "execution_count": 113,
      "metadata": {
        "id": "cIEK_z5K5vDm"
      },
      "outputs": [],
      "source": [
        "# produce pandas profiling report\n",
        "\n",
        "# Takes alot of time\n",
        "\n",
        "# df.profile_report()"
      ]
    },
    {
      "cell_type": "markdown",
      "metadata": {
        "id": "vWUOOh-G5vDn"
      },
      "source": [
        "**Key findings:**\n",
        "\n",
        "1. Dataset has total **41** distinct categories of news articles\n",
        "2. **'Politics'** is the most common category of news in our dataset.\n",
        "3. We have total of **27993** unique authors who have written various news articles\n",
        "4. Maximum length of headline is **320** while median length is around **59.**\n",
        "5. Maximum length of description is **1472** while median length is around **120.**"
      ]
    },
    {
      "cell_type": "markdown",
      "metadata": {
        "id": "EBu3yVPb5vDn"
      },
      "source": [
        "## 1.2 Text data visualization\n",
        "\n",
        "<a id=\"td\"></a>\n"
      ]
    },
    {
      "cell_type": "code",
      "execution_count": 114,
      "metadata": {
        "colab": {
          "base_uri": "https://localhost:8080/",
          "height": 206
        },
        "id": "bFZuYeLN5vDo",
        "outputId": "8da864b4-b6f3-4715-d687-0386cace0bb3"
      },
      "outputs": [
        {
          "output_type": "execute_result",
          "data": {
            "text/plain": [
              "   Unnamed: 0                                           headline   category  \\\n",
              "0           0  Over 4 Million Americans Roll Up Sleeves For O...  U.S. NEWS   \n",
              "1           1  American Airlines Flyer Charged, Banned For Li...  U.S. NEWS   \n",
              "2           2  23 Of The Funniest Tweets About Cats And Dogs ...     COMEDY   \n",
              "3           3  The Funniest Tweets From Parents This Week (Se...  PARENTING   \n",
              "4           4  Woman Who Called Cops On Black Bird-Watcher Lo...  U.S. NEWS   \n",
              "\n",
              "                                   short_description  \n",
              "0  Health experts said it is too early to predict...  \n",
              "1  He was subdued by passengers and crew when he ...  \n",
              "2  \"Until you have a dog you don't understand wha...  \n",
              "3  \"Accidentally put grown-up toothpaste on my to...  \n",
              "4  Amy Cooper accused investment firm Franklin Te...  "
            ],
            "text/html": [
              "\n",
              "  <div id=\"df-583c415c-a047-4e8a-b206-dee3a23354de\">\n",
              "    <div class=\"colab-df-container\">\n",
              "      <div>\n",
              "<style scoped>\n",
              "    .dataframe tbody tr th:only-of-type {\n",
              "        vertical-align: middle;\n",
              "    }\n",
              "\n",
              "    .dataframe tbody tr th {\n",
              "        vertical-align: top;\n",
              "    }\n",
              "\n",
              "    .dataframe thead th {\n",
              "        text-align: right;\n",
              "    }\n",
              "</style>\n",
              "<table border=\"1\" class=\"dataframe\">\n",
              "  <thead>\n",
              "    <tr style=\"text-align: right;\">\n",
              "      <th></th>\n",
              "      <th>Unnamed: 0</th>\n",
              "      <th>headline</th>\n",
              "      <th>category</th>\n",
              "      <th>short_description</th>\n",
              "    </tr>\n",
              "  </thead>\n",
              "  <tbody>\n",
              "    <tr>\n",
              "      <th>0</th>\n",
              "      <td>0</td>\n",
              "      <td>Over 4 Million Americans Roll Up Sleeves For O...</td>\n",
              "      <td>U.S. NEWS</td>\n",
              "      <td>Health experts said it is too early to predict...</td>\n",
              "    </tr>\n",
              "    <tr>\n",
              "      <th>1</th>\n",
              "      <td>1</td>\n",
              "      <td>American Airlines Flyer Charged, Banned For Li...</td>\n",
              "      <td>U.S. NEWS</td>\n",
              "      <td>He was subdued by passengers and crew when he ...</td>\n",
              "    </tr>\n",
              "    <tr>\n",
              "      <th>2</th>\n",
              "      <td>2</td>\n",
              "      <td>23 Of The Funniest Tweets About Cats And Dogs ...</td>\n",
              "      <td>COMEDY</td>\n",
              "      <td>\"Until you have a dog you don't understand wha...</td>\n",
              "    </tr>\n",
              "    <tr>\n",
              "      <th>3</th>\n",
              "      <td>3</td>\n",
              "      <td>The Funniest Tweets From Parents This Week (Se...</td>\n",
              "      <td>PARENTING</td>\n",
              "      <td>\"Accidentally put grown-up toothpaste on my to...</td>\n",
              "    </tr>\n",
              "    <tr>\n",
              "      <th>4</th>\n",
              "      <td>4</td>\n",
              "      <td>Woman Who Called Cops On Black Bird-Watcher Lo...</td>\n",
              "      <td>U.S. NEWS</td>\n",
              "      <td>Amy Cooper accused investment firm Franklin Te...</td>\n",
              "    </tr>\n",
              "  </tbody>\n",
              "</table>\n",
              "</div>\n",
              "      <button class=\"colab-df-convert\" onclick=\"convertToInteractive('df-583c415c-a047-4e8a-b206-dee3a23354de')\"\n",
              "              title=\"Convert this dataframe to an interactive table.\"\n",
              "              style=\"display:none;\">\n",
              "        \n",
              "  <svg xmlns=\"http://www.w3.org/2000/svg\" height=\"24px\"viewBox=\"0 0 24 24\"\n",
              "       width=\"24px\">\n",
              "    <path d=\"M0 0h24v24H0V0z\" fill=\"none\"/>\n",
              "    <path d=\"M18.56 5.44l.94 2.06.94-2.06 2.06-.94-2.06-.94-.94-2.06-.94 2.06-2.06.94zm-11 1L8.5 8.5l.94-2.06 2.06-.94-2.06-.94L8.5 2.5l-.94 2.06-2.06.94zm10 10l.94 2.06.94-2.06 2.06-.94-2.06-.94-.94-2.06-.94 2.06-2.06.94z\"/><path d=\"M17.41 7.96l-1.37-1.37c-.4-.4-.92-.59-1.43-.59-.52 0-1.04.2-1.43.59L10.3 9.45l-7.72 7.72c-.78.78-.78 2.05 0 2.83L4 21.41c.39.39.9.59 1.41.59.51 0 1.02-.2 1.41-.59l7.78-7.78 2.81-2.81c.8-.78.8-2.07 0-2.86zM5.41 20L4 18.59l7.72-7.72 1.47 1.35L5.41 20z\"/>\n",
              "  </svg>\n",
              "      </button>\n",
              "      \n",
              "  <style>\n",
              "    .colab-df-container {\n",
              "      display:flex;\n",
              "      flex-wrap:wrap;\n",
              "      gap: 12px;\n",
              "    }\n",
              "\n",
              "    .colab-df-convert {\n",
              "      background-color: #E8F0FE;\n",
              "      border: none;\n",
              "      border-radius: 50%;\n",
              "      cursor: pointer;\n",
              "      display: none;\n",
              "      fill: #1967D2;\n",
              "      height: 32px;\n",
              "      padding: 0 0 0 0;\n",
              "      width: 32px;\n",
              "    }\n",
              "\n",
              "    .colab-df-convert:hover {\n",
              "      background-color: #E2EBFA;\n",
              "      box-shadow: 0px 1px 2px rgba(60, 64, 67, 0.3), 0px 1px 3px 1px rgba(60, 64, 67, 0.15);\n",
              "      fill: #174EA6;\n",
              "    }\n",
              "\n",
              "    [theme=dark] .colab-df-convert {\n",
              "      background-color: #3B4455;\n",
              "      fill: #D2E3FC;\n",
              "    }\n",
              "\n",
              "    [theme=dark] .colab-df-convert:hover {\n",
              "      background-color: #434B5C;\n",
              "      box-shadow: 0px 1px 3px 1px rgba(0, 0, 0, 0.15);\n",
              "      filter: drop-shadow(0px 1px 2px rgba(0, 0, 0, 0.3));\n",
              "      fill: #FFFFFF;\n",
              "    }\n",
              "  </style>\n",
              "\n",
              "      <script>\n",
              "        const buttonEl =\n",
              "          document.querySelector('#df-583c415c-a047-4e8a-b206-dee3a23354de button.colab-df-convert');\n",
              "        buttonEl.style.display =\n",
              "          google.colab.kernel.accessAllowed ? 'block' : 'none';\n",
              "\n",
              "        async function convertToInteractive(key) {\n",
              "          const element = document.querySelector('#df-583c415c-a047-4e8a-b206-dee3a23354de');\n",
              "          const dataTable =\n",
              "            await google.colab.kernel.invokeFunction('convertToInteractive',\n",
              "                                                     [key], {});\n",
              "          if (!dataTable) return;\n",
              "\n",
              "          const docLinkHtml = 'Like what you see? Visit the ' +\n",
              "            '<a target=\"_blank\" href=https://colab.research.google.com/notebooks/data_table.ipynb>data table notebook</a>'\n",
              "            + ' to learn more about interactive tables.';\n",
              "          element.innerHTML = '';\n",
              "          dataTable['output_type'] = 'display_data';\n",
              "          await google.colab.output.renderOutput(dataTable, element);\n",
              "          const docLink = document.createElement('div');\n",
              "          docLink.innerHTML = docLinkHtml;\n",
              "          element.appendChild(docLink);\n",
              "        }\n",
              "      </script>\n",
              "    </div>\n",
              "  </div>\n",
              "  "
            ]
          },
          "metadata": {},
          "execution_count": 114
        }
      ],
      "source": [
        "# drop columns like which don't have effect on TARGET_COLUMNN\n",
        "cropped_df = df.drop(columns=UNWANTED_COLUMNS)\n",
        "cropped_df.head()"
      ]
    },
    {
      "cell_type": "markdown",
      "metadata": {
        "id": "eHntAiXI5vDq"
      },
      "source": [
        "### 1.2.1 TOP 10 Categories of News Articles"
      ]
    },
    {
      "cell_type": "code",
      "execution_count": 115,
      "metadata": {
        "id": "UQAAiuXv5vDq",
        "colab": {
          "base_uri": "https://localhost:8080/",
          "height": 441
        },
        "outputId": "17bdf97c-4106-4311-8110-5ad54a31b2c2"
      },
      "outputs": [
        {
          "output_type": "display_data",
          "data": {
            "text/plain": [
              "<Figure size 720x432 with 1 Axes>"
            ],
            "image/png": "[encoded data removed]"
          },
          "metadata": {}
        }
      ],
      "source": [
        "# Top categories by and number of articles per categories\n",
        "cat_df = pd.DataFrame(cropped_df[TARGET_COLUMN].value_counts()).reset_index()\n",
        "cat_df.rename(columns={'index': f'{TARGET_COLUMN}_classes', TARGET_COLUMN:'numcat'}, inplace=True)\n",
        "\n",
        "# Visualize top 10 categories and proportion of each categories in dataset\n",
        "plt.figure(figsize=(10,6))\n",
        "ax = sns.barplot(np.array(cat_df[f'{TARGET_COLUMN}_classes'])[:10], np.array(cat_df['numcat'])[:10])\n",
        "for p in ax.patches:\n",
        "    ax.annotate(p.get_height(), (p.get_x()+0.01, p.get_height() + 50))\n",
        "plt.title(f\"TOP 10 Categories of {TARGET_COLUMN}\", size=15)\n",
        "plt.xlabel(\"Categories of articles\", size=14)\n",
        "plt.xticks(rotation=45)\n",
        "plt.ylabel(\"Number of articles\", size=14)\n",
        "plt.show()"
      ]
    },
    {
      "cell_type": "code",
      "execution_count": 116,
      "metadata": {
        "id": "Uvmcf9EY5vDq"
      },
      "outputs": [],
      "source": [
        "# No need for pie charts; pie charts are dead\n",
        "\n",
        "# plot the pie chart of top 20 categories of news articles\n",
        "# fig = plt.figure(figsize=(12,12))\n",
        "# A = plt.pie(cat_df['numcat'][:20],\n",
        "#             labels=cat_df[f'{TARGET_COLUMN}_classes'][:20],\n",
        "#             autopct='%1.1f%%',\n",
        "#             startangle=90,\n",
        "#             labeldistance=1.08,\n",
        "#             pctdistance=1.03,\n",
        "#             rotatelabels=45\n",
        "#             )\n",
        "\n",
        "# plt.title(f\"Pie Chart of TOP 20 {TARGET_COLUMN} of news articles\", size=20, weight='bold')\n",
        "# plt.show()"
      ]
    },
    {
      "cell_type": "markdown",
      "metadata": {
        "id": "vh7A8QJn5vDs"
      },
      "source": [
        "### 1.2.2 Lengths of 'headline' and 'short_description' of each category"
      ]
    },
    {
      "cell_type": "code",
      "execution_count": 117,
      "metadata": {
        "colab": {
          "base_uri": "https://localhost:8080/",
          "height": 206
        },
        "id": "a4kJxYhGTcZR",
        "outputId": "2828412c-9ae3-4821-ac2e-573a4d9b455b"
      },
      "outputs": [
        {
          "output_type": "execute_result",
          "data": {
            "text/plain": [
              "   Unnamed: 0                                           headline   category  \\\n",
              "0           0  Over 4 Million Americans Roll Up Sleeves For O...  U.S. NEWS   \n",
              "1           1  American Airlines Flyer Charged, Banned For Li...  U.S. NEWS   \n",
              "2           2  23 Of The Funniest Tweets About Cats And Dogs ...     COMEDY   \n",
              "3           3  The Funniest Tweets From Parents This Week (Se...  PARENTING   \n",
              "4           4  Woman Who Called Cops On Black Bird-Watcher Lo...  U.S. NEWS   \n",
              "\n",
              "                                   short_description  \n",
              "0  Health experts said it is too early to predict...  \n",
              "1  He was subdued by passengers and crew when he ...  \n",
              "2  \"Until you have a dog you don't understand wha...  \n",
              "3  \"Accidentally put grown-up toothpaste on my to...  \n",
              "4  Amy Cooper accused investment firm Franklin Te...  "
            ],
            "text/html": [
              "\n",
              "  <div id=\"df-9c17c2f9-0667-4dcc-879c-0bc9c270fed4\">\n",
              "    <div class=\"colab-df-container\">\n",
              "      <div>\n",
              "<style scoped>\n",
              "    .dataframe tbody tr th:only-of-type {\n",
              "        vertical-align: middle;\n",
              "    }\n",
              "\n",
              "    .dataframe tbody tr th {\n",
              "        vertical-align: top;\n",
              "    }\n",
              "\n",
              "    .dataframe thead th {\n",
              "        text-align: right;\n",
              "    }\n",
              "</style>\n",
              "<table border=\"1\" class=\"dataframe\">\n",
              "  <thead>\n",
              "    <tr style=\"text-align: right;\">\n",
              "      <th></th>\n",
              "      <th>Unnamed: 0</th>\n",
              "      <th>headline</th>\n",
              "      <th>category</th>\n",
              "      <th>short_description</th>\n",
              "    </tr>\n",
              "  </thead>\n",
              "  <tbody>\n",
              "    <tr>\n",
              "      <th>0</th>\n",
              "      <td>0</td>\n",
              "      <td>Over 4 Million Americans Roll Up Sleeves For O...</td>\n",
              "      <td>U.S. NEWS</td>\n",
              "      <td>Health experts said it is too early to predict...</td>\n",
              "    </tr>\n",
              "    <tr>\n",
              "      <th>1</th>\n",
              "      <td>1</td>\n",
              "      <td>American Airlines Flyer Charged, Banned For Li...</td>\n",
              "      <td>U.S. NEWS</td>\n",
              "      <td>He was subdued by passengers and crew when he ...</td>\n",
              "    </tr>\n",
              "    <tr>\n",
              "      <th>2</th>\n",
              "      <td>2</td>\n",
              "      <td>23 Of The Funniest Tweets About Cats And Dogs ...</td>\n",
              "      <td>COMEDY</td>\n",
              "      <td>\"Until you have a dog you don't understand wha...</td>\n",
              "    </tr>\n",
              "    <tr>\n",
              "      <th>3</th>\n",
              "      <td>3</td>\n",
              "      <td>The Funniest Tweets From Parents This Week (Se...</td>\n",
              "      <td>PARENTING</td>\n",
              "      <td>\"Accidentally put grown-up toothpaste on my to...</td>\n",
              "    </tr>\n",
              "    <tr>\n",
              "      <th>4</th>\n",
              "      <td>4</td>\n",
              "      <td>Woman Who Called Cops On Black Bird-Watcher Lo...</td>\n",
              "      <td>U.S. NEWS</td>\n",
              "      <td>Amy Cooper accused investment firm Franklin Te...</td>\n",
              "    </tr>\n",
              "  </tbody>\n",
              "</table>\n",
              "</div>\n",
              "      <button class=\"colab-df-convert\" onclick=\"convertToInteractive('df-9c17c2f9-0667-4dcc-879c-0bc9c270fed4')\"\n",
              "              title=\"Convert this dataframe to an interactive table.\"\n",
              "              style=\"display:none;\">\n",
              "        \n",
              "  <svg xmlns=\"http://www.w3.org/2000/svg\" height=\"24px\"viewBox=\"0 0 24 24\"\n",
              "       width=\"24px\">\n",
              "    <path d=\"M0 0h24v24H0V0z\" fill=\"none\"/>\n",
              "    <path d=\"M18.56 5.44l.94 2.06.94-2.06 2.06-.94-2.06-.94-.94-2.06-.94 2.06-2.06.94zm-11 1L8.5 8.5l.94-2.06 2.06-.94-2.06-.94L8.5 2.5l-.94 2.06-2.06.94zm10 10l.94 2.06.94-2.06 2.06-.94-2.06-.94-.94-2.06-.94 2.06-2.06.94z\"/><path d=\"M17.41 7.96l-1.37-1.37c-.4-.4-.92-.59-1.43-.59-.52 0-1.04.2-1.43.59L10.3 9.45l-7.72 7.72c-.78.78-.78 2.05 0 2.83L4 21.41c.39.39.9.59 1.41.59.51 0 1.02-.2 1.41-.59l7.78-7.78 2.81-2.81c.8-.78.8-2.07 0-2.86zM5.41 20L4 18.59l7.72-7.72 1.47 1.35L5.41 20z\"/>\n",
              "  </svg>\n",
              "      </button>\n",
              "      \n",
              "  <style>\n",
              "    .colab-df-container {\n",
              "      display:flex;\n",
              "      flex-wrap:wrap;\n",
              "      gap: 12px;\n",
              "    }\n",
              "\n",
              "    .colab-df-convert {\n",
              "      background-color: #E8F0FE;\n",
              "      border: none;\n",
              "      border-radius: 50%;\n",
              "      cursor: pointer;\n",
              "      display: none;\n",
              "      fill: #1967D2;\n",
              "      height: 32px;\n",
              "      padding: 0 0 0 0;\n",
              "      width: 32px;\n",
              "    }\n",
              "\n",
              "    .colab-df-convert:hover {\n",
              "      background-color: #E2EBFA;\n",
              "      box-shadow: 0px 1px 2px rgba(60, 64, 67, 0.3), 0px 1px 3px 1px rgba(60, 64, 67, 0.15);\n",
              "      fill: #174EA6;\n",
              "    }\n",
              "\n",
              "    [theme=dark] .colab-df-convert {\n",
              "      background-color: #3B4455;\n",
              "      fill: #D2E3FC;\n",
              "    }\n",
              "\n",
              "    [theme=dark] .colab-df-convert:hover {\n",
              "      background-color: #434B5C;\n",
              "      box-shadow: 0px 1px 3px 1px rgba(0, 0, 0, 0.15);\n",
              "      filter: drop-shadow(0px 1px 2px rgba(0, 0, 0, 0.3));\n",
              "      fill: #FFFFFF;\n",
              "    }\n",
              "  </style>\n",
              "\n",
              "      <script>\n",
              "        const buttonEl =\n",
              "          document.querySelector('#df-9c17c2f9-0667-4dcc-879c-0bc9c270fed4 button.colab-df-convert');\n",
              "        buttonEl.style.display =\n",
              "          google.colab.kernel.accessAllowed ? 'block' : 'none';\n",
              "\n",
              "        async function convertToInteractive(key) {\n",
              "          const element = document.querySelector('#df-9c17c2f9-0667-4dcc-879c-0bc9c270fed4');\n",
              "          const dataTable =\n",
              "            await google.colab.kernel.invokeFunction('convertToInteractive',\n",
              "                                                     [key], {});\n",
              "          if (!dataTable) return;\n",
              "\n",
              "          const docLinkHtml = 'Like what you see? Visit the ' +\n",
              "            '<a target=\"_blank\" href=https://colab.research.google.com/notebooks/data_table.ipynb>data table notebook</a>'\n",
              "            + ' to learn more about interactive tables.';\n",
              "          element.innerHTML = '';\n",
              "          dataTable['output_type'] = 'display_data';\n",
              "          await google.colab.output.renderOutput(dataTable, element);\n",
              "          const docLink = document.createElement('div');\n",
              "          docLink.innerHTML = docLinkHtml;\n",
              "          element.appendChild(docLink);\n",
              "        }\n",
              "      </script>\n",
              "    </div>\n",
              "  </div>\n",
              "  "
            ]
          },
          "metadata": {},
          "execution_count": 117
        }
      ],
      "source": [
        "cropped_df.head()"
      ]
    },
    {
      "cell_type": "code",
      "execution_count": 118,
      "metadata": {
        "colab": {
          "base_uri": "https://localhost:8080/",
          "height": 206
        },
        "id": "z627jMWj5vDs",
        "outputId": "6257571b-750f-4d27-aadf-3da9346e9f83"
      },
      "outputs": [
        {
          "output_type": "execute_result",
          "data": {
            "text/plain": [
              "   Unnamed: 0   category                                     concat_feature  \\\n",
              "0           0  U.S. NEWS  Over 4 Million Americans Roll Up Sleeves For O...   \n",
              "1           1  U.S. NEWS  American Airlines Flyer Charged, Banned For Li...   \n",
              "2           2     COMEDY  23 Of The Funniest Tweets About Cats And Dogs ...   \n",
              "3           3  PARENTING  The Funniest Tweets From Parents This Week (Se...   \n",
              "4           4  U.S. NEWS  Woman Who Called Cops On Black Bird-Watcher Lo...   \n",
              "\n",
              "   len_feature  \n",
              "0          231  \n",
              "1          249  \n",
              "2          134  \n",
              "3          216  \n",
              "4          234  "
            ],
            "text/html": [
              "\n",
              "  <div id=\"df-1bdf8a29-951e-44ad-9dd8-c15d4715143b\">\n",
              "    <div class=\"colab-df-container\">\n",
              "      <div>\n",
              "<style scoped>\n",
              "    .dataframe tbody tr th:only-of-type {\n",
              "        vertical-align: middle;\n",
              "    }\n",
              "\n",
              "    .dataframe tbody tr th {\n",
              "        vertical-align: top;\n",
              "    }\n",
              "\n",
              "    .dataframe thead th {\n",
              "        text-align: right;\n",
              "    }\n",
              "</style>\n",
              "<table border=\"1\" class=\"dataframe\">\n",
              "  <thead>\n",
              "    <tr style=\"text-align: right;\">\n",
              "      <th></th>\n",
              "      <th>Unnamed: 0</th>\n",
              "      <th>category</th>\n",
              "      <th>concat_feature</th>\n",
              "      <th>len_feature</th>\n",
              "    </tr>\n",
              "  </thead>\n",
              "  <tbody>\n",
              "    <tr>\n",
              "      <th>0</th>\n",
              "      <td>0</td>\n",
              "      <td>U.S. NEWS</td>\n",
              "      <td>Over 4 Million Americans Roll Up Sleeves For O...</td>\n",
              "      <td>231</td>\n",
              "    </tr>\n",
              "    <tr>\n",
              "      <th>1</th>\n",
              "      <td>1</td>\n",
              "      <td>U.S. NEWS</td>\n",
              "      <td>American Airlines Flyer Charged, Banned For Li...</td>\n",
              "      <td>249</td>\n",
              "    </tr>\n",
              "    <tr>\n",
              "      <th>2</th>\n",
              "      <td>2</td>\n",
              "      <td>COMEDY</td>\n",
              "      <td>23 Of The Funniest Tweets About Cats And Dogs ...</td>\n",
              "      <td>134</td>\n",
              "    </tr>\n",
              "    <tr>\n",
              "      <th>3</th>\n",
              "      <td>3</td>\n",
              "      <td>PARENTING</td>\n",
              "      <td>The Funniest Tweets From Parents This Week (Se...</td>\n",
              "      <td>216</td>\n",
              "    </tr>\n",
              "    <tr>\n",
              "      <th>4</th>\n",
              "      <td>4</td>\n",
              "      <td>U.S. NEWS</td>\n",
              "      <td>Woman Who Called Cops On Black Bird-Watcher Lo...</td>\n",
              "      <td>234</td>\n",
              "    </tr>\n",
              "  </tbody>\n",
              "</table>\n",
              "</div>\n",
              "      <button class=\"colab-df-convert\" onclick=\"convertToInteractive('df-1bdf8a29-951e-44ad-9dd8-c15d4715143b')\"\n",
              "              title=\"Convert this dataframe to an interactive table.\"\n",
              "              style=\"display:none;\">\n",
              "        \n",
              "  <svg xmlns=\"http://www.w3.org/2000/svg\" height=\"24px\"viewBox=\"0 0 24 24\"\n",
              "       width=\"24px\">\n",
              "    <path d=\"M0 0h24v24H0V0z\" fill=\"none\"/>\n",
              "    <path d=\"M18.56 5.44l.94 2.06.94-2.06 2.06-.94-2.06-.94-.94-2.06-.94 2.06-2.06.94zm-11 1L8.5 8.5l.94-2.06 2.06-.94-2.06-.94L8.5 2.5l-.94 2.06-2.06.94zm10 10l.94 2.06.94-2.06 2.06-.94-2.06-.94-.94-2.06-.94 2.06-2.06.94z\"/><path d=\"M17.41 7.96l-1.37-1.37c-.4-.4-.92-.59-1.43-.59-.52 0-1.04.2-1.43.59L10.3 9.45l-7.72 7.72c-.78.78-.78 2.05 0 2.83L4 21.41c.39.39.9.59 1.41.59.51 0 1.02-.2 1.41-.59l7.78-7.78 2.81-2.81c.8-.78.8-2.07 0-2.86zM5.41 20L4 18.59l7.72-7.72 1.47 1.35L5.41 20z\"/>\n",
              "  </svg>\n",
              "      </button>\n",
              "      \n",
              "  <style>\n",
              "    .colab-df-container {\n",
              "      display:flex;\n",
              "      flex-wrap:wrap;\n",
              "      gap: 12px;\n",
              "    }\n",
              "\n",
              "    .colab-df-convert {\n",
              "      background-color: #E8F0FE;\n",
              "      border: none;\n",
              "      border-radius: 50%;\n",
              "      cursor: pointer;\n",
              "      display: none;\n",
              "      fill: #1967D2;\n",
              "      height: 32px;\n",
              "      padding: 0 0 0 0;\n",
              "      width: 32px;\n",
              "    }\n",
              "\n",
              "    .colab-df-convert:hover {\n",
              "      background-color: #E2EBFA;\n",
              "      box-shadow: 0px 1px 2px rgba(60, 64, 67, 0.3), 0px 1px 3px 1px rgba(60, 64, 67, 0.15);\n",
              "      fill: #174EA6;\n",
              "    }\n",
              "\n",
              "    [theme=dark] .colab-df-convert {\n",
              "      background-color: #3B4455;\n",
              "      fill: #D2E3FC;\n",
              "    }\n",
              "\n",
              "    [theme=dark] .colab-df-convert:hover {\n",
              "      background-color: #434B5C;\n",
              "      box-shadow: 0px 1px 3px 1px rgba(0, 0, 0, 0.15);\n",
              "      filter: drop-shadow(0px 1px 2px rgba(0, 0, 0, 0.3));\n",
              "      fill: #FFFFFF;\n",
              "    }\n",
              "  </style>\n",
              "\n",
              "      <script>\n",
              "        const buttonEl =\n",
              "          document.querySelector('#df-1bdf8a29-951e-44ad-9dd8-c15d4715143b button.colab-df-convert');\n",
              "        buttonEl.style.display =\n",
              "          google.colab.kernel.accessAllowed ? 'block' : 'none';\n",
              "\n",
              "        async function convertToInteractive(key) {\n",
              "          const element = document.querySelector('#df-1bdf8a29-951e-44ad-9dd8-c15d4715143b');\n",
              "          const dataTable =\n",
              "            await google.colab.kernel.invokeFunction('convertToInteractive',\n",
              "                                                     [key], {});\n",
              "          if (!dataTable) return;\n",
              "\n",
              "          const docLinkHtml = 'Like what you see? Visit the ' +\n",
              "            '<a target=\"_blank\" href=https://colab.research.google.com/notebooks/data_table.ipynb>data table notebook</a>'\n",
              "            + ' to learn more about interactive tables.';\n",
              "          element.innerHTML = '';\n",
              "          dataTable['output_type'] = 'display_data';\n",
              "          await google.colab.output.renderOutput(dataTable, element);\n",
              "          const docLink = document.createElement('div');\n",
              "          docLink.innerHTML = docLinkHtml;\n",
              "          element.appendChild(docLink);\n",
              "        }\n",
              "      </script>\n",
              "    </div>\n",
              "  </div>\n",
              "  "
            ]
          },
          "metadata": {},
          "execution_count": 118
        }
      ],
      "source": [
        "# # create final dataframe of combined headline and short_description\n",
        "filtered_df = cropped_df.dropna(axis=0)\n",
        "filtered_df['concat_feature'] = filtered_df[FEATURE_COLUMNS].apply(lambda x: ' '.join(x), axis=1)\n",
        "filtered_df.drop(FEATURE_COLUMNS, inplace=True, axis=1)\n",
        "filtered_df['len_feature'] = filtered_df['concat_feature'].str.len()\n",
        "filtered_df.head()"
      ]
    },
    {
      "cell_type": "code",
      "execution_count": 119,
      "metadata": {
        "colab": {
          "base_uri": "https://localhost:8080/",
          "height": 206
        },
        "id": "iYXi0Z5q5vDs",
        "outputId": "00d6ba90-8989-4304-b43a-9a2d774fa9b6"
      },
      "outputs": [
        {
          "output_type": "execute_result",
          "data": {
            "text/plain": [
              "          category  len_feature\n",
              "24        POLITICS         1487\n",
              "41       WORLDPOST         1425\n",
              "4          COLLEGE         1226\n",
              "16  HEALTHY LIVING         1074\n",
              "38        WELLNESS         1037"
            ],
            "text/html": [
              "\n",
              "  <div id=\"df-93a154e8-7e9f-410a-8db1-29d02beb51d8\">\n",
              "    <div class=\"colab-df-container\">\n",
              "      <div>\n",
              "<style scoped>\n",
              "    .dataframe tbody tr th:only-of-type {\n",
              "        vertical-align: middle;\n",
              "    }\n",
              "\n",
              "    .dataframe tbody tr th {\n",
              "        vertical-align: top;\n",
              "    }\n",
              "\n",
              "    .dataframe thead th {\n",
              "        text-align: right;\n",
              "    }\n",
              "</style>\n",
              "<table border=\"1\" class=\"dataframe\">\n",
              "  <thead>\n",
              "    <tr style=\"text-align: right;\">\n",
              "      <th></th>\n",
              "      <th>category</th>\n",
              "      <th>len_feature</th>\n",
              "    </tr>\n",
              "  </thead>\n",
              "  <tbody>\n",
              "    <tr>\n",
              "      <th>24</th>\n",
              "      <td>POLITICS</td>\n",
              "      <td>1487</td>\n",
              "    </tr>\n",
              "    <tr>\n",
              "      <th>41</th>\n",
              "      <td>WORLDPOST</td>\n",
              "      <td>1425</td>\n",
              "    </tr>\n",
              "    <tr>\n",
              "      <th>4</th>\n",
              "      <td>COLLEGE</td>\n",
              "      <td>1226</td>\n",
              "    </tr>\n",
              "    <tr>\n",
              "      <th>16</th>\n",
              "      <td>HEALTHY LIVING</td>\n",
              "      <td>1074</td>\n",
              "    </tr>\n",
              "    <tr>\n",
              "      <th>38</th>\n",
              "      <td>WELLNESS</td>\n",
              "      <td>1037</td>\n",
              "    </tr>\n",
              "  </tbody>\n",
              "</table>\n",
              "</div>\n",
              "      <button class=\"colab-df-convert\" onclick=\"convertToInteractive('df-93a154e8-7e9f-410a-8db1-29d02beb51d8')\"\n",
              "              title=\"Convert this dataframe to an interactive table.\"\n",
              "              style=\"display:none;\">\n",
              "        \n",
              "  <svg xmlns=\"http://www.w3.org/2000/svg\" height=\"24px\"viewBox=\"0 0 24 24\"\n",
              "       width=\"24px\">\n",
              "    <path d=\"M0 0h24v24H0V0z\" fill=\"none\"/>\n",
              "    <path d=\"M18.56 5.44l.94 2.06.94-2.06 2.06-.94-2.06-.94-.94-2.06-.94 2.06-2.06.94zm-11 1L8.5 8.5l.94-2.06 2.06-.94-2.06-.94L8.5 2.5l-.94 2.06-2.06.94zm10 10l.94 2.06.94-2.06 2.06-.94-2.06-.94-.94-2.06-.94 2.06-2.06.94z\"/><path d=\"M17.41 7.96l-1.37-1.37c-.4-.4-.92-.59-1.43-.59-.52 0-1.04.2-1.43.59L10.3 9.45l-7.72 7.72c-.78.78-.78 2.05 0 2.83L4 21.41c.39.39.9.59 1.41.59.51 0 1.02-.2 1.41-.59l7.78-7.78 2.81-2.81c.8-.78.8-2.07 0-2.86zM5.41 20L4 18.59l7.72-7.72 1.47 1.35L5.41 20z\"/>\n",
              "  </svg>\n",
              "      </button>\n",
              "      \n",
              "  <style>\n",
              "    .colab-df-container {\n",
              "      display:flex;\n",
              "      flex-wrap:wrap;\n",
              "      gap: 12px;\n",
              "    }\n",
              "\n",
              "    .colab-df-convert {\n",
              "      background-color: #E8F0FE;\n",
              "      border: none;\n",
              "      border-radius: 50%;\n",
              "      cursor: pointer;\n",
              "      display: none;\n",
              "      fill: #1967D2;\n",
              "      height: 32px;\n",
              "      padding: 0 0 0 0;\n",
              "      width: 32px;\n",
              "    }\n",
              "\n",
              "    .colab-df-convert:hover {\n",
              "      background-color: #E2EBFA;\n",
              "      box-shadow: 0px 1px 2px rgba(60, 64, 67, 0.3), 0px 1px 3px 1px rgba(60, 64, 67, 0.15);\n",
              "      fill: #174EA6;\n",
              "    }\n",
              "\n",
              "    [theme=dark] .colab-df-convert {\n",
              "      background-color: #3B4455;\n",
              "      fill: #D2E3FC;\n",
              "    }\n",
              "\n",
              "    [theme=dark] .colab-df-convert:hover {\n",
              "      background-color: #434B5C;\n",
              "      box-shadow: 0px 1px 3px 1px rgba(0, 0, 0, 0.15);\n",
              "      filter: drop-shadow(0px 1px 2px rgba(0, 0, 0, 0.3));\n",
              "      fill: #FFFFFF;\n",
              "    }\n",
              "  </style>\n",
              "\n",
              "      <script>\n",
              "        const buttonEl =\n",
              "          document.querySelector('#df-93a154e8-7e9f-410a-8db1-29d02beb51d8 button.colab-df-convert');\n",
              "        buttonEl.style.display =\n",
              "          google.colab.kernel.accessAllowed ? 'block' : 'none';\n",
              "\n",
              "        async function convertToInteractive(key) {\n",
              "          const element = document.querySelector('#df-93a154e8-7e9f-410a-8db1-29d02beb51d8');\n",
              "          const dataTable =\n",
              "            await google.colab.kernel.invokeFunction('convertToInteractive',\n",
              "                                                     [key], {});\n",
              "          if (!dataTable) return;\n",
              "\n",
              "          const docLinkHtml = 'Like what you see? Visit the ' +\n",
              "            '<a target=\"_blank\" href=https://colab.research.google.com/notebooks/data_table.ipynb>data table notebook</a>'\n",
              "            + ' to learn more about interactive tables.';\n",
              "          element.innerHTML = '';\n",
              "          dataTable['output_type'] = 'display_data';\n",
              "          await google.colab.output.renderOutput(dataTable, element);\n",
              "          const docLink = document.createElement('div');\n",
              "          docLink.innerHTML = docLinkHtml;\n",
              "          element.appendChild(docLink);\n",
              "        }\n",
              "      </script>\n",
              "    </div>\n",
              "  </div>\n",
              "  "
            ]
          },
          "metadata": {},
          "execution_count": 119
        }
      ],
      "source": [
        "# maximum length of news in each category\n",
        "lenmax_df = filtered_df.groupby(TARGET_COLUMN)['len_feature'].max().reset_index().sort_values(by='len_feature',ascending=False)\n",
        "lenmax_df.head()"
      ]
    },
    {
      "cell_type": "code",
      "execution_count": 120,
      "metadata": {
        "colab": {
          "base_uri": "https://localhost:8080/",
          "height": 206
        },
        "id": "2V4k1lVY5vDt",
        "outputId": "a6653c2e-8962-46f6-b6be-ccdcba0b4c24"
      },
      "outputs": [
        {
          "output_type": "execute_result",
          "data": {
            "text/plain": [
              "     category  len_feature\n",
              "0        ARTS           90\n",
              "35  U.S. NEWS           74\n",
              "8     DIVORCE           67\n",
              "12      FIFTY           63\n",
              "6       CRIME           61"
            ],
            "text/html": [
              "\n",
              "  <div id=\"df-f5c51ada-efc5-4844-9387-b9dddfb9915a\">\n",
              "    <div class=\"colab-df-container\">\n",
              "      <div>\n",
              "<style scoped>\n",
              "    .dataframe tbody tr th:only-of-type {\n",
              "        vertical-align: middle;\n",
              "    }\n",
              "\n",
              "    .dataframe tbody tr th {\n",
              "        vertical-align: top;\n",
              "    }\n",
              "\n",
              "    .dataframe thead th {\n",
              "        text-align: right;\n",
              "    }\n",
              "</style>\n",
              "<table border=\"1\" class=\"dataframe\">\n",
              "  <thead>\n",
              "    <tr style=\"text-align: right;\">\n",
              "      <th></th>\n",
              "      <th>category</th>\n",
              "      <th>len_feature</th>\n",
              "    </tr>\n",
              "  </thead>\n",
              "  <tbody>\n",
              "    <tr>\n",
              "      <th>0</th>\n",
              "      <td>ARTS</td>\n",
              "      <td>90</td>\n",
              "    </tr>\n",
              "    <tr>\n",
              "      <th>35</th>\n",
              "      <td>U.S. NEWS</td>\n",
              "      <td>74</td>\n",
              "    </tr>\n",
              "    <tr>\n",
              "      <th>8</th>\n",
              "      <td>DIVORCE</td>\n",
              "      <td>67</td>\n",
              "    </tr>\n",
              "    <tr>\n",
              "      <th>12</th>\n",
              "      <td>FIFTY</td>\n",
              "      <td>63</td>\n",
              "    </tr>\n",
              "    <tr>\n",
              "      <th>6</th>\n",
              "      <td>CRIME</td>\n",
              "      <td>61</td>\n",
              "    </tr>\n",
              "  </tbody>\n",
              "</table>\n",
              "</div>\n",
              "      <button class=\"colab-df-convert\" onclick=\"convertToInteractive('df-f5c51ada-efc5-4844-9387-b9dddfb9915a')\"\n",
              "              title=\"Convert this dataframe to an interactive table.\"\n",
              "              style=\"display:none;\">\n",
              "        \n",
              "  <svg xmlns=\"http://www.w3.org/2000/svg\" height=\"24px\"viewBox=\"0 0 24 24\"\n",
              "       width=\"24px\">\n",
              "    <path d=\"M0 0h24v24H0V0z\" fill=\"none\"/>\n",
              "    <path d=\"M18.56 5.44l.94 2.06.94-2.06 2.06-.94-2.06-.94-.94-2.06-.94 2.06-2.06.94zm-11 1L8.5 8.5l.94-2.06 2.06-.94-2.06-.94L8.5 2.5l-.94 2.06-2.06.94zm10 10l.94 2.06.94-2.06 2.06-.94-2.06-.94-.94-2.06-.94 2.06-2.06.94z\"/><path d=\"M17.41 7.96l-1.37-1.37c-.4-.4-.92-.59-1.43-.59-.52 0-1.04.2-1.43.59L10.3 9.45l-7.72 7.72c-.78.78-.78 2.05 0 2.83L4 21.41c.39.39.9.59 1.41.59.51 0 1.02-.2 1.41-.59l7.78-7.78 2.81-2.81c.8-.78.8-2.07 0-2.86zM5.41 20L4 18.59l7.72-7.72 1.47 1.35L5.41 20z\"/>\n",
              "  </svg>\n",
              "      </button>\n",
              "      \n",
              "  <style>\n",
              "    .colab-df-container {\n",
              "      display:flex;\n",
              "      flex-wrap:wrap;\n",
              "      gap: 12px;\n",
              "    }\n",
              "\n",
              "    .colab-df-convert {\n",
              "      background-color: #E8F0FE;\n",
              "      border: none;\n",
              "      border-radius: 50%;\n",
              "      cursor: pointer;\n",
              "      display: none;\n",
              "      fill: #1967D2;\n",
              "      height: 32px;\n",
              "      padding: 0 0 0 0;\n",
              "      width: 32px;\n",
              "    }\n",
              "\n",
              "    .colab-df-convert:hover {\n",
              "      background-color: #E2EBFA;\n",
              "      box-shadow: 0px 1px 2px rgba(60, 64, 67, 0.3), 0px 1px 3px 1px rgba(60, 64, 67, 0.15);\n",
              "      fill: #174EA6;\n",
              "    }\n",
              "\n",
              "    [theme=dark] .colab-df-convert {\n",
              "      background-color: #3B4455;\n",
              "      fill: #D2E3FC;\n",
              "    }\n",
              "\n",
              "    [theme=dark] .colab-df-convert:hover {\n",
              "      background-color: #434B5C;\n",
              "      box-shadow: 0px 1px 3px 1px rgba(0, 0, 0, 0.15);\n",
              "      filter: drop-shadow(0px 1px 2px rgba(0, 0, 0, 0.3));\n",
              "      fill: #FFFFFF;\n",
              "    }\n",
              "  </style>\n",
              "\n",
              "      <script>\n",
              "        const buttonEl =\n",
              "          document.querySelector('#df-f5c51ada-efc5-4844-9387-b9dddfb9915a button.colab-df-convert');\n",
              "        buttonEl.style.display =\n",
              "          google.colab.kernel.accessAllowed ? 'block' : 'none';\n",
              "\n",
              "        async function convertToInteractive(key) {\n",
              "          const element = document.querySelector('#df-f5c51ada-efc5-4844-9387-b9dddfb9915a');\n",
              "          const dataTable =\n",
              "            await google.colab.kernel.invokeFunction('convertToInteractive',\n",
              "                                                     [key], {});\n",
              "          if (!dataTable) return;\n",
              "\n",
              "          const docLinkHtml = 'Like what you see? Visit the ' +\n",
              "            '<a target=\"_blank\" href=https://colab.research.google.com/notebooks/data_table.ipynb>data table notebook</a>'\n",
              "            + ' to learn more about interactive tables.';\n",
              "          element.innerHTML = '';\n",
              "          dataTable['output_type'] = 'display_data';\n",
              "          await google.colab.output.renderOutput(dataTable, element);\n",
              "          const docLink = document.createElement('div');\n",
              "          docLink.innerHTML = docLinkHtml;\n",
              "          element.appendChild(docLink);\n",
              "        }\n",
              "      </script>\n",
              "    </div>\n",
              "  </div>\n",
              "  "
            ]
          },
          "metadata": {},
          "execution_count": 120
        }
      ],
      "source": [
        "# minimum lenght of news in each category\n",
        "lenmin_df = filtered_df.groupby(TARGET_COLUMN)['len_feature'].min().reset_index().sort_values(by='len_feature',ascending=False)\n",
        "lenmin_df.head()"
      ]
    },
    {
      "cell_type": "code",
      "execution_count": 121,
      "metadata": {
        "colab": {
          "base_uri": "https://localhost:8080/",
          "height": 441
        },
        "id": "RcABXwtx5vDt",
        "outputId": "1d8f2443-9ac0-4770-cc54-b0008f3cc486"
      },
      "outputs": [
        {
          "output_type": "display_data",
          "data": {
            "text/plain": [
              "<Figure size 1080x432 with 2 Axes>"
            ],
            "image/png": "[encoded data removed]"
          },
          "metadata": {}
        }
      ],
      "source": [
        "# plot the bar plots of max and min length of news articles\n",
        "plt.figure(figsize=(15,6))\n",
        "\n",
        "plt.subplot(121)\n",
        "plt.bar(lenmax_df['category'][:10],lenmax_df['len_feature'][:10])\n",
        "plt.xticks(rotation=45)\n",
        "plt.ylabel(f\"Words length in {TARGET_COLUMN} categories\", size=14)\n",
        "plt.xlabel(f\"{TARGET_COLUMN} categories\",  size=14)\n",
        "plt.title(\"Max length top 10 news categories\", size=14)\n",
        "\n",
        "plt.subplot(122)\n",
        "plt.bar(lenmin_df[TARGET_COLUMN][:10], lenmin_df['len_feature'][:10])\n",
        "plt.xticks(rotation=45)\n",
        "plt.xlabel(f\"{TARGET_COLUMN} categories\", size=14)\n",
        "plt.title(f\"Min length of top 10 {TARGET_COLUMN} categories\", size=14)\n",
        "\n",
        "plt.show()"
      ]
    },
    {
      "cell_type": "markdown",
      "metadata": {
        "id": "lNGMhpUY5vDu"
      },
      "source": [
        "### 1.2.3 Wordclouds of categories and news articles\n",
        "\n",
        "- Wordcloud of categories in out dataframe\n",
        "- Wordcloud of new articles in each of the categories"
      ]
    },
    {
      "cell_type": "code",
      "execution_count": 122,
      "metadata": {
        "id": "73pHW8tTWJON",
        "colab": {
          "base_uri": "https://localhost:8080/",
          "height": 35
        },
        "outputId": "0497b793-276d-4340-d967-6979312e92d3"
      },
      "outputs": [
        {
          "output_type": "execute_result",
          "data": {
            "text/plain": [
              "'U.S. NEWS U.S. NEWS COMEDY PARENTING U.S. NEWS U.S. NEWS U.S. NEWS WORLD NEWS CULTURE & ARTS WORLD N'"
            ],
            "application/vnd.google.colaboratory.intrinsic+json": {
              "type": "string"
            }
          },
          "metadata": {},
          "execution_count": 122
        }
      ],
      "source": [
        "combined_target_corpus = ' '.join(filtered_df.dropna()[TARGET_COLUMN])\n",
        "combined_target_corpus[:100]"
      ]
    },
    {
      "cell_type": "code",
      "execution_count": 123,
      "metadata": {
        "colab": {
          "base_uri": "https://localhost:8080/"
        },
        "id": "5TdI_1Oucdpi",
        "outputId": "7fc85757-3dc7-4d54-cd11-882b126e7a7a"
      },
      "outputs": [
        {
          "output_type": "execute_result",
          "data": {
            "text/plain": [
              "42"
            ]
          },
          "metadata": {},
          "execution_count": 123
        }
      ],
      "source": [
        "len(filtered_df[TARGET_COLUMN].drop_duplicates())"
      ]
    },
    {
      "cell_type": "code",
      "execution_count": 124,
      "metadata": {
        "colab": {
          "base_uri": "https://localhost:8080/",
          "height": 387
        },
        "id": "09CsI1Rd5vDv",
        "outputId": "b1b9d2ab-be28-4213-db02-9f04641a13e5"
      },
      "outputs": [
        {
          "output_type": "execute_result",
          "data": {
            "text/plain": [
              "(-0.5, 1599.5, 599.5, -0.5)"
            ]
          },
          "metadata": {},
          "execution_count": 124
        },
        {
          "output_type": "display_data",
          "data": {
            "text/plain": [
              "<Figure size 864x864 with 1 Axes>"
            ],
            "image/png": "[encoded data removed]"
          },
          "metadata": {}
        }
      ],
      "source": [
        "# wordcloud of categories of news articles in our dataset\n",
        "plt.figure(figsize=(12,12))\n",
        "wc = WordCloud(max_words=1000, \n",
        "               min_font_size=10,\n",
        "               height=600,\n",
        "               width=1600,\n",
        "               background_color='black',\n",
        "               contour_color='black',\n",
        "               colormap='plasma',\n",
        "               repeat=False,\n",
        "               stopwords=STOPWORDS).generate(combined_target_corpus)\n",
        "\n",
        "plt.title(f\"{filtered_df[TARGET_COLUMN].nunique()} {TARGET_COLUMN} classes Wordcloud\", size=15, weight='bold')\n",
        "plt.imshow(wc, interpolation= \"bilinear\")\n",
        "plt.axis('off')"
      ]
    },
    {
      "cell_type": "code",
      "execution_count": 125,
      "metadata": {
        "id": "t7juD7CpcVu0",
        "colab": {
          "base_uri": "https://localhost:8080/",
          "height": 424
        },
        "outputId": "86c35e1a-5b26-4b80-d7e4-0759a40bda08"
      },
      "outputs": [
        {
          "output_type": "execute_result",
          "data": {
            "text/plain": [
              "        Unnamed: 0   category  \\\n",
              "0                0  U.S. NEWS   \n",
              "1                1  U.S. NEWS   \n",
              "2                2     COMEDY   \n",
              "3                3  PARENTING   \n",
              "4                4  U.S. NEWS   \n",
              "...            ...        ...   \n",
              "209522      209522       TECH   \n",
              "209523      209523     SPORTS   \n",
              "209524      209524     SPORTS   \n",
              "209525      209525     SPORTS   \n",
              "209526      209526     SPORTS   \n",
              "\n",
              "                                           concat_feature  len_feature  \n",
              "0       Over 4 Million Americans Roll Up Sleeves For O...          231  \n",
              "1       American Airlines Flyer Charged, Banned For Li...          249  \n",
              "2       23 Of The Funniest Tweets About Cats And Dogs ...          134  \n",
              "3       The Funniest Tweets From Parents This Week (Se...          216  \n",
              "4       Woman Who Called Cops On Black Bird-Watcher Lo...          234  \n",
              "...                                                   ...          ...  \n",
              "209522  RIM CEO Thorsten Heins' 'Significant' Plans Fo...          183  \n",
              "209523  Maria Sharapova Stunned By Victoria Azarenka I...          192  \n",
              "209524  Giants Over Patriots, Jets Over Colts Among  M...          221  \n",
              "209525  Aldon Smith Arrested: 49ers Linebacker Busted ...          174  \n",
              "209526  Dwight Howard Rips Teammates After Magic Loss ...          179  \n",
              "\n",
              "[189814 rows x 4 columns]"
            ],
            "text/html": [
              "\n",
              "  <div id=\"df-8ba485ed-34c0-44c9-95af-296418a8be96\">\n",
              "    <div class=\"colab-df-container\">\n",
              "      <div>\n",
              "<style scoped>\n",
              "    .dataframe tbody tr th:only-of-type {\n",
              "        vertical-align: middle;\n",
              "    }\n",
              "\n",
              "    .dataframe tbody tr th {\n",
              "        vertical-align: top;\n",
              "    }\n",
              "\n",
              "    .dataframe thead th {\n",
              "        text-align: right;\n",
              "    }\n",
              "</style>\n",
              "<table border=\"1\" class=\"dataframe\">\n",
              "  <thead>\n",
              "    <tr style=\"text-align: right;\">\n",
              "      <th></th>\n",
              "      <th>Unnamed: 0</th>\n",
              "      <th>category</th>\n",
              "      <th>concat_feature</th>\n",
              "      <th>len_feature</th>\n",
              "    </tr>\n",
              "  </thead>\n",
              "  <tbody>\n",
              "    <tr>\n",
              "      <th>0</th>\n",
              "      <td>0</td>\n",
              "      <td>U.S. NEWS</td>\n",
              "      <td>Over 4 Million Americans Roll Up Sleeves For O...</td>\n",
              "      <td>231</td>\n",
              "    </tr>\n",
              "    <tr>\n",
              "      <th>1</th>\n",
              "      <td>1</td>\n",
              "      <td>U.S. NEWS</td>\n",
              "      <td>American Airlines Flyer Charged, Banned For Li...</td>\n",
              "      <td>249</td>\n",
              "    </tr>\n",
              "    <tr>\n",
              "      <th>2</th>\n",
              "      <td>2</td>\n",
              "      <td>COMEDY</td>\n",
              "      <td>23 Of The Funniest Tweets About Cats And Dogs ...</td>\n",
              "      <td>134</td>\n",
              "    </tr>\n",
              "    <tr>\n",
              "      <th>3</th>\n",
              "      <td>3</td>\n",
              "      <td>PARENTING</td>\n",
              "      <td>The Funniest Tweets From Parents This Week (Se...</td>\n",
              "      <td>216</td>\n",
              "    </tr>\n",
              "    <tr>\n",
              "      <th>4</th>\n",
              "      <td>4</td>\n",
              "      <td>U.S. NEWS</td>\n",
              "      <td>Woman Who Called Cops On Black Bird-Watcher Lo...</td>\n",
              "      <td>234</td>\n",
              "    </tr>\n",
              "    <tr>\n",
              "      <th>...</th>\n",
              "      <td>...</td>\n",
              "      <td>...</td>\n",
              "      <td>...</td>\n",
              "      <td>...</td>\n",
              "    </tr>\n",
              "    <tr>\n",
              "      <th>209522</th>\n",
              "      <td>209522</td>\n",
              "      <td>TECH</td>\n",
              "      <td>RIM CEO Thorsten Heins' 'Significant' Plans Fo...</td>\n",
              "      <td>183</td>\n",
              "    </tr>\n",
              "    <tr>\n",
              "      <th>209523</th>\n",
              "      <td>209523</td>\n",
              "      <td>SPORTS</td>\n",
              "      <td>Maria Sharapova Stunned By Victoria Azarenka I...</td>\n",
              "      <td>192</td>\n",
              "    </tr>\n",
              "    <tr>\n",
              "      <th>209524</th>\n",
              "      <td>209524</td>\n",
              "      <td>SPORTS</td>\n",
              "      <td>Giants Over Patriots, Jets Over Colts Among  M...</td>\n",
              "      <td>221</td>\n",
              "    </tr>\n",
              "    <tr>\n",
              "      <th>209525</th>\n",
              "      <td>209525</td>\n",
              "      <td>SPORTS</td>\n",
              "      <td>Aldon Smith Arrested: 49ers Linebacker Busted ...</td>\n",
              "      <td>174</td>\n",
              "    </tr>\n",
              "    <tr>\n",
              "      <th>209526</th>\n",
              "      <td>209526</td>\n",
              "      <td>SPORTS</td>\n",
              "      <td>Dwight Howard Rips Teammates After Magic Loss ...</td>\n",
              "      <td>179</td>\n",
              "    </tr>\n",
              "  </tbody>\n",
              "</table>\n",
              "<p>189814 rows × 4 columns</p>\n",
              "</div>\n",
              "      <button class=\"colab-df-convert\" onclick=\"convertToInteractive('df-8ba485ed-34c0-44c9-95af-296418a8be96')\"\n",
              "              title=\"Convert this dataframe to an interactive table.\"\n",
              "              style=\"display:none;\">\n",
              "        \n",
              "  <svg xmlns=\"http://www.w3.org/2000/svg\" height=\"24px\"viewBox=\"0 0 24 24\"\n",
              "       width=\"24px\">\n",
              "    <path d=\"M0 0h24v24H0V0z\" fill=\"none\"/>\n",
              "    <path d=\"M18.56 5.44l.94 2.06.94-2.06 2.06-.94-2.06-.94-.94-2.06-.94 2.06-2.06.94zm-11 1L8.5 8.5l.94-2.06 2.06-.94-2.06-.94L8.5 2.5l-.94 2.06-2.06.94zm10 10l.94 2.06.94-2.06 2.06-.94-2.06-.94-.94-2.06-.94 2.06-2.06.94z\"/><path d=\"M17.41 7.96l-1.37-1.37c-.4-.4-.92-.59-1.43-.59-.52 0-1.04.2-1.43.59L10.3 9.45l-7.72 7.72c-.78.78-.78 2.05 0 2.83L4 21.41c.39.39.9.59 1.41.59.51 0 1.02-.2 1.41-.59l7.78-7.78 2.81-2.81c.8-.78.8-2.07 0-2.86zM5.41 20L4 18.59l7.72-7.72 1.47 1.35L5.41 20z\"/>\n",
              "  </svg>\n",
              "      </button>\n",
              "      \n",
              "  <style>\n",
              "    .colab-df-container {\n",
              "      display:flex;\n",
              "      flex-wrap:wrap;\n",
              "      gap: 12px;\n",
              "    }\n",
              "\n",
              "    .colab-df-convert {\n",
              "      background-color: #E8F0FE;\n",
              "      border: none;\n",
              "      border-radius: 50%;\n",
              "      cursor: pointer;\n",
              "      display: none;\n",
              "      fill: #1967D2;\n",
              "      height: 32px;\n",
              "      padding: 0 0 0 0;\n",
              "      width: 32px;\n",
              "    }\n",
              "\n",
              "    .colab-df-convert:hover {\n",
              "      background-color: #E2EBFA;\n",
              "      box-shadow: 0px 1px 2px rgba(60, 64, 67, 0.3), 0px 1px 3px 1px rgba(60, 64, 67, 0.15);\n",
              "      fill: #174EA6;\n",
              "    }\n",
              "\n",
              "    [theme=dark] .colab-df-convert {\n",
              "      background-color: #3B4455;\n",
              "      fill: #D2E3FC;\n",
              "    }\n",
              "\n",
              "    [theme=dark] .colab-df-convert:hover {\n",
              "      background-color: #434B5C;\n",
              "      box-shadow: 0px 1px 3px 1px rgba(0, 0, 0, 0.15);\n",
              "      filter: drop-shadow(0px 1px 2px rgba(0, 0, 0, 0.3));\n",
              "      fill: #FFFFFF;\n",
              "    }\n",
              "  </style>\n",
              "\n",
              "      <script>\n",
              "        const buttonEl =\n",
              "          document.querySelector('#df-8ba485ed-34c0-44c9-95af-296418a8be96 button.colab-df-convert');\n",
              "        buttonEl.style.display =\n",
              "          google.colab.kernel.accessAllowed ? 'block' : 'none';\n",
              "\n",
              "        async function convertToInteractive(key) {\n",
              "          const element = document.querySelector('#df-8ba485ed-34c0-44c9-95af-296418a8be96');\n",
              "          const dataTable =\n",
              "            await google.colab.kernel.invokeFunction('convertToInteractive',\n",
              "                                                     [key], {});\n",
              "          if (!dataTable) return;\n",
              "\n",
              "          const docLinkHtml = 'Like what you see? Visit the ' +\n",
              "            '<a target=\"_blank\" href=https://colab.research.google.com/notebooks/data_table.ipynb>data table notebook</a>'\n",
              "            + ' to learn more about interactive tables.';\n",
              "          element.innerHTML = '';\n",
              "          dataTable['output_type'] = 'display_data';\n",
              "          await google.colab.output.renderOutput(dataTable, element);\n",
              "          const docLink = document.createElement('div');\n",
              "          docLink.innerHTML = docLinkHtml;\n",
              "          element.appendChild(docLink);\n",
              "        }\n",
              "      </script>\n",
              "    </div>\n",
              "  </div>\n",
              "  "
            ]
          },
          "metadata": {},
          "execution_count": 125
        }
      ],
      "source": [
        "filtered_df"
      ]
    },
    {
      "cell_type": "code",
      "source": [
        "# create new dataframe of category and length of each news articles in that categories\n",
        "training_df = filtered_df.drop(['len_feature'], axis=1)\n",
        "target_freq_df = training_df.groupby(TARGET_COLUMN).agg(occurences=('concat_feature', 'count'))"
      ],
      "metadata": {
        "id": "R_JY8auif9Tv"
      },
      "execution_count": 126,
      "outputs": []
    },
    {
      "cell_type": "code",
      "source": [
        "training_df"
      ],
      "metadata": {
        "colab": {
          "base_uri": "https://localhost:8080/",
          "height": 424
        },
        "id": "F7iGgsYPHz-6",
        "outputId": "1c7e3553-40b4-44fe-c161-769451fcbb5d"
      },
      "execution_count": 127,
      "outputs": [
        {
          "output_type": "execute_result",
          "data": {
            "text/plain": [
              "        Unnamed: 0   category  \\\n",
              "0                0  U.S. NEWS   \n",
              "1                1  U.S. NEWS   \n",
              "2                2     COMEDY   \n",
              "3                3  PARENTING   \n",
              "4                4  U.S. NEWS   \n",
              "...            ...        ...   \n",
              "209522      209522       TECH   \n",
              "209523      209523     SPORTS   \n",
              "209524      209524     SPORTS   \n",
              "209525      209525     SPORTS   \n",
              "209526      209526     SPORTS   \n",
              "\n",
              "                                           concat_feature  \n",
              "0       Over 4 Million Americans Roll Up Sleeves For O...  \n",
              "1       American Airlines Flyer Charged, Banned For Li...  \n",
              "2       23 Of The Funniest Tweets About Cats And Dogs ...  \n",
              "3       The Funniest Tweets From Parents This Week (Se...  \n",
              "4       Woman Who Called Cops On Black Bird-Watcher Lo...  \n",
              "...                                                   ...  \n",
              "209522  RIM CEO Thorsten Heins' 'Significant' Plans Fo...  \n",
              "209523  Maria Sharapova Stunned By Victoria Azarenka I...  \n",
              "209524  Giants Over Patriots, Jets Over Colts Among  M...  \n",
              "209525  Aldon Smith Arrested: 49ers Linebacker Busted ...  \n",
              "209526  Dwight Howard Rips Teammates After Magic Loss ...  \n",
              "\n",
              "[189814 rows x 3 columns]"
            ],
            "text/html": [
              "\n",
              "  <div id=\"df-5201af79-600d-4ce2-921e-f50db652d681\">\n",
              "    <div class=\"colab-df-container\">\n",
              "      <div>\n",
              "<style scoped>\n",
              "    .dataframe tbody tr th:only-of-type {\n",
              "        vertical-align: middle;\n",
              "    }\n",
              "\n",
              "    .dataframe tbody tr th {\n",
              "        vertical-align: top;\n",
              "    }\n",
              "\n",
              "    .dataframe thead th {\n",
              "        text-align: right;\n",
              "    }\n",
              "</style>\n",
              "<table border=\"1\" class=\"dataframe\">\n",
              "  <thead>\n",
              "    <tr style=\"text-align: right;\">\n",
              "      <th></th>\n",
              "      <th>Unnamed: 0</th>\n",
              "      <th>category</th>\n",
              "      <th>concat_feature</th>\n",
              "    </tr>\n",
              "  </thead>\n",
              "  <tbody>\n",
              "    <tr>\n",
              "      <th>0</th>\n",
              "      <td>0</td>\n",
              "      <td>U.S. NEWS</td>\n",
              "      <td>Over 4 Million Americans Roll Up Sleeves For O...</td>\n",
              "    </tr>\n",
              "    <tr>\n",
              "      <th>1</th>\n",
              "      <td>1</td>\n",
              "      <td>U.S. NEWS</td>\n",
              "      <td>American Airlines Flyer Charged, Banned For Li...</td>\n",
              "    </tr>\n",
              "    <tr>\n",
              "      <th>2</th>\n",
              "      <td>2</td>\n",
              "      <td>COMEDY</td>\n",
              "      <td>23 Of The Funniest Tweets About Cats And Dogs ...</td>\n",
              "    </tr>\n",
              "    <tr>\n",
              "      <th>3</th>\n",
              "      <td>3</td>\n",
              "      <td>PARENTING</td>\n",
              "      <td>The Funniest Tweets From Parents This Week (Se...</td>\n",
              "    </tr>\n",
              "    <tr>\n",
              "      <th>4</th>\n",
              "      <td>4</td>\n",
              "      <td>U.S. NEWS</td>\n",
              "      <td>Woman Who Called Cops On Black Bird-Watcher Lo...</td>\n",
              "    </tr>\n",
              "    <tr>\n",
              "      <th>...</th>\n",
              "      <td>...</td>\n",
              "      <td>...</td>\n",
              "      <td>...</td>\n",
              "    </tr>\n",
              "    <tr>\n",
              "      <th>209522</th>\n",
              "      <td>209522</td>\n",
              "      <td>TECH</td>\n",
              "      <td>RIM CEO Thorsten Heins' 'Significant' Plans Fo...</td>\n",
              "    </tr>\n",
              "    <tr>\n",
              "      <th>209523</th>\n",
              "      <td>209523</td>\n",
              "      <td>SPORTS</td>\n",
              "      <td>Maria Sharapova Stunned By Victoria Azarenka I...</td>\n",
              "    </tr>\n",
              "    <tr>\n",
              "      <th>209524</th>\n",
              "      <td>209524</td>\n",
              "      <td>SPORTS</td>\n",
              "      <td>Giants Over Patriots, Jets Over Colts Among  M...</td>\n",
              "    </tr>\n",
              "    <tr>\n",
              "      <th>209525</th>\n",
              "      <td>209525</td>\n",
              "      <td>SPORTS</td>\n",
              "      <td>Aldon Smith Arrested: 49ers Linebacker Busted ...</td>\n",
              "    </tr>\n",
              "    <tr>\n",
              "      <th>209526</th>\n",
              "      <td>209526</td>\n",
              "      <td>SPORTS</td>\n",
              "      <td>Dwight Howard Rips Teammates After Magic Loss ...</td>\n",
              "    </tr>\n",
              "  </tbody>\n",
              "</table>\n",
              "<p>189814 rows × 3 columns</p>\n",
              "</div>\n",
              "      <button class=\"colab-df-convert\" onclick=\"convertToInteractive('df-5201af79-600d-4ce2-921e-f50db652d681')\"\n",
              "              title=\"Convert this dataframe to an interactive table.\"\n",
              "              style=\"display:none;\">\n",
              "        \n",
              "  <svg xmlns=\"http://www.w3.org/2000/svg\" height=\"24px\"viewBox=\"0 0 24 24\"\n",
              "       width=\"24px\">\n",
              "    <path d=\"M0 0h24v24H0V0z\" fill=\"none\"/>\n",
              "    <path d=\"M18.56 5.44l.94 2.06.94-2.06 2.06-.94-2.06-.94-.94-2.06-.94 2.06-2.06.94zm-11 1L8.5 8.5l.94-2.06 2.06-.94-2.06-.94L8.5 2.5l-.94 2.06-2.06.94zm10 10l.94 2.06.94-2.06 2.06-.94-2.06-.94-.94-2.06-.94 2.06-2.06.94z\"/><path d=\"M17.41 7.96l-1.37-1.37c-.4-.4-.92-.59-1.43-.59-.52 0-1.04.2-1.43.59L10.3 9.45l-7.72 7.72c-.78.78-.78 2.05 0 2.83L4 21.41c.39.39.9.59 1.41.59.51 0 1.02-.2 1.41-.59l7.78-7.78 2.81-2.81c.8-.78.8-2.07 0-2.86zM5.41 20L4 18.59l7.72-7.72 1.47 1.35L5.41 20z\"/>\n",
              "  </svg>\n",
              "      </button>\n",
              "      \n",
              "  <style>\n",
              "    .colab-df-container {\n",
              "      display:flex;\n",
              "      flex-wrap:wrap;\n",
              "      gap: 12px;\n",
              "    }\n",
              "\n",
              "    .colab-df-convert {\n",
              "      background-color: #E8F0FE;\n",
              "      border: none;\n",
              "      border-radius: 50%;\n",
              "      cursor: pointer;\n",
              "      display: none;\n",
              "      fill: #1967D2;\n",
              "      height: 32px;\n",
              "      padding: 0 0 0 0;\n",
              "      width: 32px;\n",
              "    }\n",
              "\n",
              "    .colab-df-convert:hover {\n",
              "      background-color: #E2EBFA;\n",
              "      box-shadow: 0px 1px 2px rgba(60, 64, 67, 0.3), 0px 1px 3px 1px rgba(60, 64, 67, 0.15);\n",
              "      fill: #174EA6;\n",
              "    }\n",
              "\n",
              "    [theme=dark] .colab-df-convert {\n",
              "      background-color: #3B4455;\n",
              "      fill: #D2E3FC;\n",
              "    }\n",
              "\n",
              "    [theme=dark] .colab-df-convert:hover {\n",
              "      background-color: #434B5C;\n",
              "      box-shadow: 0px 1px 3px 1px rgba(0, 0, 0, 0.15);\n",
              "      filter: drop-shadow(0px 1px 2px rgba(0, 0, 0, 0.3));\n",
              "      fill: #FFFFFF;\n",
              "    }\n",
              "  </style>\n",
              "\n",
              "      <script>\n",
              "        const buttonEl =\n",
              "          document.querySelector('#df-5201af79-600d-4ce2-921e-f50db652d681 button.colab-df-convert');\n",
              "        buttonEl.style.display =\n",
              "          google.colab.kernel.accessAllowed ? 'block' : 'none';\n",
              "\n",
              "        async function convertToInteractive(key) {\n",
              "          const element = document.querySelector('#df-5201af79-600d-4ce2-921e-f50db652d681');\n",
              "          const dataTable =\n",
              "            await google.colab.kernel.invokeFunction('convertToInteractive',\n",
              "                                                     [key], {});\n",
              "          if (!dataTable) return;\n",
              "\n",
              "          const docLinkHtml = 'Like what you see? Visit the ' +\n",
              "            '<a target=\"_blank\" href=https://colab.research.google.com/notebooks/data_table.ipynb>data table notebook</a>'\n",
              "            + ' to learn more about interactive tables.';\n",
              "          element.innerHTML = '';\n",
              "          dataTable['output_type'] = 'display_data';\n",
              "          await google.colab.output.renderOutput(dataTable, element);\n",
              "          const docLink = document.createElement('div');\n",
              "          docLink.innerHTML = docLinkHtml;\n",
              "          element.appendChild(docLink);\n",
              "        }\n",
              "      </script>\n",
              "    </div>\n",
              "  </div>\n",
              "  "
            ]
          },
          "metadata": {},
          "execution_count": 127
        }
      ]
    },
    {
      "cell_type": "code",
      "source": [
        "top_ten_classes = target_freq_df.sort_values(['occurences'], ascending=[False]).reset_index()[:10]\n",
        "top_ten_classes"
      ],
      "metadata": {
        "colab": {
          "base_uri": "https://localhost:8080/",
          "height": 363
        },
        "id": "1W5rh4fxgZXc",
        "outputId": "2b5fa225-049d-44ce-b04d-2d811a2406a6"
      },
      "execution_count": 128,
      "outputs": [
        {
          "output_type": "execute_result",
          "data": {
            "text/plain": [
              "         category  occurences\n",
              "0        POLITICS       32441\n",
              "1        WELLNESS       17943\n",
              "2   ENTERTAINMENT       14774\n",
              "3  STYLE & BEAUTY        9802\n",
              "4          TRAVEL        9421\n",
              "5       PARENTING        8790\n",
              "6    FOOD & DRINK        6331\n",
              "7    QUEER VOICES        5603\n",
              "8  HEALTHY LIVING        5265\n",
              "9        BUSINESS        5132"
            ],
            "text/html": [
              "\n",
              "  <div id=\"df-7f553621-fa7d-464e-a377-24d69ad37610\">\n",
              "    <div class=\"colab-df-container\">\n",
              "      <div>\n",
              "<style scoped>\n",
              "    .dataframe tbody tr th:only-of-type {\n",
              "        vertical-align: middle;\n",
              "    }\n",
              "\n",
              "    .dataframe tbody tr th {\n",
              "        vertical-align: top;\n",
              "    }\n",
              "\n",
              "    .dataframe thead th {\n",
              "        text-align: right;\n",
              "    }\n",
              "</style>\n",
              "<table border=\"1\" class=\"dataframe\">\n",
              "  <thead>\n",
              "    <tr style=\"text-align: right;\">\n",
              "      <th></th>\n",
              "      <th>category</th>\n",
              "      <th>occurences</th>\n",
              "    </tr>\n",
              "  </thead>\n",
              "  <tbody>\n",
              "    <tr>\n",
              "      <th>0</th>\n",
              "      <td>POLITICS</td>\n",
              "      <td>32441</td>\n",
              "    </tr>\n",
              "    <tr>\n",
              "      <th>1</th>\n",
              "      <td>WELLNESS</td>\n",
              "      <td>17943</td>\n",
              "    </tr>\n",
              "    <tr>\n",
              "      <th>2</th>\n",
              "      <td>ENTERTAINMENT</td>\n",
              "      <td>14774</td>\n",
              "    </tr>\n",
              "    <tr>\n",
              "      <th>3</th>\n",
              "      <td>STYLE &amp; BEAUTY</td>\n",
              "      <td>9802</td>\n",
              "    </tr>\n",
              "    <tr>\n",
              "      <th>4</th>\n",
              "      <td>TRAVEL</td>\n",
              "      <td>9421</td>\n",
              "    </tr>\n",
              "    <tr>\n",
              "      <th>5</th>\n",
              "      <td>PARENTING</td>\n",
              "      <td>8790</td>\n",
              "    </tr>\n",
              "    <tr>\n",
              "      <th>6</th>\n",
              "      <td>FOOD &amp; DRINK</td>\n",
              "      <td>6331</td>\n",
              "    </tr>\n",
              "    <tr>\n",
              "      <th>7</th>\n",
              "      <td>QUEER VOICES</td>\n",
              "      <td>5603</td>\n",
              "    </tr>\n",
              "    <tr>\n",
              "      <th>8</th>\n",
              "      <td>HEALTHY LIVING</td>\n",
              "      <td>5265</td>\n",
              "    </tr>\n",
              "    <tr>\n",
              "      <th>9</th>\n",
              "      <td>BUSINESS</td>\n",
              "      <td>5132</td>\n",
              "    </tr>\n",
              "  </tbody>\n",
              "</table>\n",
              "</div>\n",
              "      <button class=\"colab-df-convert\" onclick=\"convertToInteractive('df-7f553621-fa7d-464e-a377-24d69ad37610')\"\n",
              "              title=\"Convert this dataframe to an interactive table.\"\n",
              "              style=\"display:none;\">\n",
              "        \n",
              "  <svg xmlns=\"http://www.w3.org/2000/svg\" height=\"24px\"viewBox=\"0 0 24 24\"\n",
              "       width=\"24px\">\n",
              "    <path d=\"M0 0h24v24H0V0z\" fill=\"none\"/>\n",
              "    <path d=\"M18.56 5.44l.94 2.06.94-2.06 2.06-.94-2.06-.94-.94-2.06-.94 2.06-2.06.94zm-11 1L8.5 8.5l.94-2.06 2.06-.94-2.06-.94L8.5 2.5l-.94 2.06-2.06.94zm10 10l.94 2.06.94-2.06 2.06-.94-2.06-.94-.94-2.06-.94 2.06-2.06.94z\"/><path d=\"M17.41 7.96l-1.37-1.37c-.4-.4-.92-.59-1.43-.59-.52 0-1.04.2-1.43.59L10.3 9.45l-7.72 7.72c-.78.78-.78 2.05 0 2.83L4 21.41c.39.39.9.59 1.41.59.51 0 1.02-.2 1.41-.59l7.78-7.78 2.81-2.81c.8-.78.8-2.07 0-2.86zM5.41 20L4 18.59l7.72-7.72 1.47 1.35L5.41 20z\"/>\n",
              "  </svg>\n",
              "      </button>\n",
              "      \n",
              "  <style>\n",
              "    .colab-df-container {\n",
              "      display:flex;\n",
              "      flex-wrap:wrap;\n",
              "      gap: 12px;\n",
              "    }\n",
              "\n",
              "    .colab-df-convert {\n",
              "      background-color: #E8F0FE;\n",
              "      border: none;\n",
              "      border-radius: 50%;\n",
              "      cursor: pointer;\n",
              "      display: none;\n",
              "      fill: #1967D2;\n",
              "      height: 32px;\n",
              "      padding: 0 0 0 0;\n",
              "      width: 32px;\n",
              "    }\n",
              "\n",
              "    .colab-df-convert:hover {\n",
              "      background-color: #E2EBFA;\n",
              "      box-shadow: 0px 1px 2px rgba(60, 64, 67, 0.3), 0px 1px 3px 1px rgba(60, 64, 67, 0.15);\n",
              "      fill: #174EA6;\n",
              "    }\n",
              "\n",
              "    [theme=dark] .colab-df-convert {\n",
              "      background-color: #3B4455;\n",
              "      fill: #D2E3FC;\n",
              "    }\n",
              "\n",
              "    [theme=dark] .colab-df-convert:hover {\n",
              "      background-color: #434B5C;\n",
              "      box-shadow: 0px 1px 3px 1px rgba(0, 0, 0, 0.15);\n",
              "      filter: drop-shadow(0px 1px 2px rgba(0, 0, 0, 0.3));\n",
              "      fill: #FFFFFF;\n",
              "    }\n",
              "  </style>\n",
              "\n",
              "      <script>\n",
              "        const buttonEl =\n",
              "          document.querySelector('#df-7f553621-fa7d-464e-a377-24d69ad37610 button.colab-df-convert');\n",
              "        buttonEl.style.display =\n",
              "          google.colab.kernel.accessAllowed ? 'block' : 'none';\n",
              "\n",
              "        async function convertToInteractive(key) {\n",
              "          const element = document.querySelector('#df-7f553621-fa7d-464e-a377-24d69ad37610');\n",
              "          const dataTable =\n",
              "            await google.colab.kernel.invokeFunction('convertToInteractive',\n",
              "                                                     [key], {});\n",
              "          if (!dataTable) return;\n",
              "\n",
              "          const docLinkHtml = 'Like what you see? Visit the ' +\n",
              "            '<a target=\"_blank\" href=https://colab.research.google.com/notebooks/data_table.ipynb>data table notebook</a>'\n",
              "            + ' to learn more about interactive tables.';\n",
              "          element.innerHTML = '';\n",
              "          dataTable['output_type'] = 'display_data';\n",
              "          await google.colab.output.renderOutput(dataTable, element);\n",
              "          const docLink = document.createElement('div');\n",
              "          docLink.innerHTML = docLinkHtml;\n",
              "          element.appendChild(docLink);\n",
              "        }\n",
              "      </script>\n",
              "    </div>\n",
              "  </div>\n",
              "  "
            ]
          },
          "metadata": {},
          "execution_count": 128
        }
      ]
    },
    {
      "cell_type": "code",
      "execution_count": 129,
      "metadata": {
        "id": "JngEWxDa5vDw"
      },
      "outputs": [],
      "source": [
        "# Uncomment everything below to generate wordclouds for text corpus of each\n",
        "# class invidually\n",
        "\n",
        "# Warning: takes a lot of time\n",
        "\n",
        "\n",
        "\n",
        "\n",
        "\n",
        "\n",
        "# # list of top 10  categories in the dataset\n",
        "# # top_ten_classes = target_freq_df.sort_values(['occurences'], ascending=[False])[TARGET_COLUMN].to_list()\n",
        "# print(\"Top 10 categories: \\n\", top_ten_classes[TARGET_COLUMN])\n",
        "\n",
        "# # list of news articles of each top 10 categories list\n",
        "# articles_list = []\n",
        "\n",
        "# for i in top_ten_classes[TARGET_COLUMN]:\n",
        "#     cat_ndf = training_df[training_df[TARGET_COLUMN] == i]\n",
        "#     cat_array = cat_ndf['concat_feature'].values  # array of news articles text in each category\n",
        "#     articles_list.append(cat_array)\n",
        "\n",
        "# print(\"============\", articles_list[0])\n",
        "# # create a wordcloud instance\n",
        "# wc1 = WordCloud(max_words=1000, \n",
        "#                min_font_size=10,\n",
        "#                height=600,\n",
        "#                width=1600,\n",
        "#                background_color='black',\n",
        "#                contour_color='black',\n",
        "#                colormap='plasma',\n",
        "#                repeat=True,\n",
        "#                stopwords=STOPWORDS)\n",
        "\n",
        "# # plot the figure of 10 wordcloud from out dataset\n",
        "# plt.figure(figsize=(15,15))\n",
        "\n",
        "# for idx, j in enumerate(top_ten_classes[TARGET_COLUMN]):\n",
        "#     plt.subplot(5,2,idx+1)\n",
        "#     cloud = wc1.generate(' '.join(articles_list[idx]))\n",
        "#     plt.imshow(cloud, interpolation= \"bilinear\")\n",
        "#     plt.title(f\"Wordcloud for {TARGET_COLUMN} {j}\")\n",
        "#     plt.axis('off')"
      ]
    },
    {
      "cell_type": "markdown",
      "metadata": {
        "id": "_DmYLU925vDw"
      },
      "source": [
        "## 1.3 Text-data Preprocessing \n",
        "\n",
        "<a id=\"tdp\"></a>\n"
      ]
    },
    {
      "cell_type": "code",
      "source": [
        "training_df"
      ],
      "metadata": {
        "colab": {
          "base_uri": "https://localhost:8080/",
          "height": 424
        },
        "id": "s9kyLD_fJgSr",
        "outputId": "c992c573-bae3-4ba4-ca43-24ea50185035"
      },
      "execution_count": 131,
      "outputs": [
        {
          "output_type": "execute_result",
          "data": {
            "text/plain": [
              "        Unnamed: 0   category  \\\n",
              "0                0  U.S. NEWS   \n",
              "1                1  U.S. NEWS   \n",
              "2                2     COMEDY   \n",
              "3                3  PARENTING   \n",
              "4                4  U.S. NEWS   \n",
              "...            ...        ...   \n",
              "209522      209522       TECH   \n",
              "209523      209523     SPORTS   \n",
              "209524      209524     SPORTS   \n",
              "209525      209525     SPORTS   \n",
              "209526      209526     SPORTS   \n",
              "\n",
              "                                           concat_feature  \n",
              "0       Over 4 Million Americans Roll Up Sleeves For O...  \n",
              "1       American Airlines Flyer Charged, Banned For Li...  \n",
              "2       23 Of The Funniest Tweets About Cats And Dogs ...  \n",
              "3       The Funniest Tweets From Parents This Week (Se...  \n",
              "4       Woman Who Called Cops On Black Bird-Watcher Lo...  \n",
              "...                                                   ...  \n",
              "209522  RIM CEO Thorsten Heins' 'Significant' Plans Fo...  \n",
              "209523  Maria Sharapova Stunned By Victoria Azarenka I...  \n",
              "209524  Giants Over Patriots, Jets Over Colts Among  M...  \n",
              "209525  Aldon Smith Arrested: 49ers Linebacker Busted ...  \n",
              "209526  Dwight Howard Rips Teammates After Magic Loss ...  \n",
              "\n",
              "[189814 rows x 3 columns]"
            ],
            "text/html": [
              "\n",
              "  <div id=\"df-f5a66537-76df-497e-8c46-4d113347d0c5\">\n",
              "    <div class=\"colab-df-container\">\n",
              "      <div>\n",
              "<style scoped>\n",
              "    .dataframe tbody tr th:only-of-type {\n",
              "        vertical-align: middle;\n",
              "    }\n",
              "\n",
              "    .dataframe tbody tr th {\n",
              "        vertical-align: top;\n",
              "    }\n",
              "\n",
              "    .dataframe thead th {\n",
              "        text-align: right;\n",
              "    }\n",
              "</style>\n",
              "<table border=\"1\" class=\"dataframe\">\n",
              "  <thead>\n",
              "    <tr style=\"text-align: right;\">\n",
              "      <th></th>\n",
              "      <th>Unnamed: 0</th>\n",
              "      <th>category</th>\n",
              "      <th>concat_feature</th>\n",
              "    </tr>\n",
              "  </thead>\n",
              "  <tbody>\n",
              "    <tr>\n",
              "      <th>0</th>\n",
              "      <td>0</td>\n",
              "      <td>U.S. NEWS</td>\n",
              "      <td>Over 4 Million Americans Roll Up Sleeves For O...</td>\n",
              "    </tr>\n",
              "    <tr>\n",
              "      <th>1</th>\n",
              "      <td>1</td>\n",
              "      <td>U.S. NEWS</td>\n",
              "      <td>American Airlines Flyer Charged, Banned For Li...</td>\n",
              "    </tr>\n",
              "    <tr>\n",
              "      <th>2</th>\n",
              "      <td>2</td>\n",
              "      <td>COMEDY</td>\n",
              "      <td>23 Of The Funniest Tweets About Cats And Dogs ...</td>\n",
              "    </tr>\n",
              "    <tr>\n",
              "      <th>3</th>\n",
              "      <td>3</td>\n",
              "      <td>PARENTING</td>\n",
              "      <td>The Funniest Tweets From Parents This Week (Se...</td>\n",
              "    </tr>\n",
              "    <tr>\n",
              "      <th>4</th>\n",
              "      <td>4</td>\n",
              "      <td>U.S. NEWS</td>\n",
              "      <td>Woman Who Called Cops On Black Bird-Watcher Lo...</td>\n",
              "    </tr>\n",
              "    <tr>\n",
              "      <th>...</th>\n",
              "      <td>...</td>\n",
              "      <td>...</td>\n",
              "      <td>...</td>\n",
              "    </tr>\n",
              "    <tr>\n",
              "      <th>209522</th>\n",
              "      <td>209522</td>\n",
              "      <td>TECH</td>\n",
              "      <td>RIM CEO Thorsten Heins' 'Significant' Plans Fo...</td>\n",
              "    </tr>\n",
              "    <tr>\n",
              "      <th>209523</th>\n",
              "      <td>209523</td>\n",
              "      <td>SPORTS</td>\n",
              "      <td>Maria Sharapova Stunned By Victoria Azarenka I...</td>\n",
              "    </tr>\n",
              "    <tr>\n",
              "      <th>209524</th>\n",
              "      <td>209524</td>\n",
              "      <td>SPORTS</td>\n",
              "      <td>Giants Over Patriots, Jets Over Colts Among  M...</td>\n",
              "    </tr>\n",
              "    <tr>\n",
              "      <th>209525</th>\n",
              "      <td>209525</td>\n",
              "      <td>SPORTS</td>\n",
              "      <td>Aldon Smith Arrested: 49ers Linebacker Busted ...</td>\n",
              "    </tr>\n",
              "    <tr>\n",
              "      <th>209526</th>\n",
              "      <td>209526</td>\n",
              "      <td>SPORTS</td>\n",
              "      <td>Dwight Howard Rips Teammates After Magic Loss ...</td>\n",
              "    </tr>\n",
              "  </tbody>\n",
              "</table>\n",
              "<p>189814 rows × 3 columns</p>\n",
              "</div>\n",
              "      <button class=\"colab-df-convert\" onclick=\"convertToInteractive('df-f5a66537-76df-497e-8c46-4d113347d0c5')\"\n",
              "              title=\"Convert this dataframe to an interactive table.\"\n",
              "              style=\"display:none;\">\n",
              "        \n",
              "  <svg xmlns=\"http://www.w3.org/2000/svg\" height=\"24px\"viewBox=\"0 0 24 24\"\n",
              "       width=\"24px\">\n",
              "    <path d=\"M0 0h24v24H0V0z\" fill=\"none\"/>\n",
              "    <path d=\"M18.56 5.44l.94 2.06.94-2.06 2.06-.94-2.06-.94-.94-2.06-.94 2.06-2.06.94zm-11 1L8.5 8.5l.94-2.06 2.06-.94-2.06-.94L8.5 2.5l-.94 2.06-2.06.94zm10 10l.94 2.06.94-2.06 2.06-.94-2.06-.94-.94-2.06-.94 2.06-2.06.94z\"/><path d=\"M17.41 7.96l-1.37-1.37c-.4-.4-.92-.59-1.43-.59-.52 0-1.04.2-1.43.59L10.3 9.45l-7.72 7.72c-.78.78-.78 2.05 0 2.83L4 21.41c.39.39.9.59 1.41.59.51 0 1.02-.2 1.41-.59l7.78-7.78 2.81-2.81c.8-.78.8-2.07 0-2.86zM5.41 20L4 18.59l7.72-7.72 1.47 1.35L5.41 20z\"/>\n",
              "  </svg>\n",
              "      </button>\n",
              "      \n",
              "  <style>\n",
              "    .colab-df-container {\n",
              "      display:flex;\n",
              "      flex-wrap:wrap;\n",
              "      gap: 12px;\n",
              "    }\n",
              "\n",
              "    .colab-df-convert {\n",
              "      background-color: #E8F0FE;\n",
              "      border: none;\n",
              "      border-radius: 50%;\n",
              "      cursor: pointer;\n",
              "      display: none;\n",
              "      fill: #1967D2;\n",
              "      height: 32px;\n",
              "      padding: 0 0 0 0;\n",
              "      width: 32px;\n",
              "    }\n",
              "\n",
              "    .colab-df-convert:hover {\n",
              "      background-color: #E2EBFA;\n",
              "      box-shadow: 0px 1px 2px rgba(60, 64, 67, 0.3), 0px 1px 3px 1px rgba(60, 64, 67, 0.15);\n",
              "      fill: #174EA6;\n",
              "    }\n",
              "\n",
              "    [theme=dark] .colab-df-convert {\n",
              "      background-color: #3B4455;\n",
              "      fill: #D2E3FC;\n",
              "    }\n",
              "\n",
              "    [theme=dark] .colab-df-convert:hover {\n",
              "      background-color: #434B5C;\n",
              "      box-shadow: 0px 1px 3px 1px rgba(0, 0, 0, 0.15);\n",
              "      filter: drop-shadow(0px 1px 2px rgba(0, 0, 0, 0.3));\n",
              "      fill: #FFFFFF;\n",
              "    }\n",
              "  </style>\n",
              "\n",
              "      <script>\n",
              "        const buttonEl =\n",
              "          document.querySelector('#df-f5a66537-76df-497e-8c46-4d113347d0c5 button.colab-df-convert');\n",
              "        buttonEl.style.display =\n",
              "          google.colab.kernel.accessAllowed ? 'block' : 'none';\n",
              "\n",
              "        async function convertToInteractive(key) {\n",
              "          const element = document.querySelector('#df-f5a66537-76df-497e-8c46-4d113347d0c5');\n",
              "          const dataTable =\n",
              "            await google.colab.kernel.invokeFunction('convertToInteractive',\n",
              "                                                     [key], {});\n",
              "          if (!dataTable) return;\n",
              "\n",
              "          const docLinkHtml = 'Like what you see? Visit the ' +\n",
              "            '<a target=\"_blank\" href=https://colab.research.google.com/notebooks/data_table.ipynb>data table notebook</a>'\n",
              "            + ' to learn more about interactive tables.';\n",
              "          element.innerHTML = '';\n",
              "          dataTable['output_type'] = 'display_data';\n",
              "          await google.colab.output.renderOutput(dataTable, element);\n",
              "          const docLink = document.createElement('div');\n",
              "          docLink.innerHTML = docLinkHtml;\n",
              "          element.appendChild(docLink);\n",
              "        }\n",
              "      </script>\n",
              "    </div>\n",
              "  </div>\n",
              "  "
            ]
          },
          "metadata": {},
          "execution_count": 131
        }
      ]
    },
    {
      "cell_type": "code",
      "execution_count": 132,
      "metadata": {
        "id": "5W-8nQiC5vDx"
      },
      "outputs": [],
      "source": [
        "# Reduce imbalances if possible\n",
        "# If a class has too many rows it might make sense to drop some observations\n",
        "\n",
        "politics_list = list(training_df[training_df[TARGET_COLUMN] == 'POLITICS'].index) \n",
        "list_16 = politics_list[:16000] # list of 16000 row labels of POLITICS category\n",
        "\n",
        "# drop these 16000 labels from the dataset\n",
        "balanced_training_df = training_df.copy()\n",
        "balanced_training_df.drop(list_16, axis=0, inplace=True)"
      ]
    },
    {
      "cell_type": "code",
      "execution_count": 133,
      "metadata": {
        "id": "kl9eKhfQ5vDx"
      },
      "outputs": [],
      "source": [
        "# clean the text data using regex and data cleaning function\n",
        "def datacleaning(text):\n",
        "    whitespace = re.compile(r\"\\s+\")\n",
        "    user = re.compile(r\"(?i)@[a-z0-9_]+\")\n",
        "    text = whitespace.sub(' ', text)\n",
        "    text = user.sub('', text)\n",
        "    text = re.sub(r\"\\[[^()]*\\]\",\"\", text)\n",
        "    text = re.sub(\"\\d+\", \"\", text)\n",
        "    text = re.sub(r'[^\\w\\s]','',text)\n",
        "    text = re.sub(r\"(?:@\\S*|#\\S*|http(?=.*://)\\S*)\", \"\", text)\n",
        "    text = text.lower()\n",
        "    \n",
        "    # removing stop-words\n",
        "    text = [word for word in text.split() if word not in list(STOPWORDS)]\n",
        "    \n",
        "    # word lemmatization\n",
        "    sentence = []\n",
        "    for word in text:\n",
        "        lemmatizer = WordNetLemmatizer()\n",
        "        sentence.append(lemmatizer.lemmatize(word,'v'))\n",
        "        \n",
        "    return ' '.join(sentence)        "
      ]
    },
    {
      "cell_type": "code",
      "execution_count": 134,
      "metadata": {
        "colab": {
          "base_uri": "https://localhost:8080/"
        },
        "id": "C421k6ZE5vDx",
        "outputId": "0f30f41e-5336-4acd-f3b7-3d675b12d92e"
      },
      "outputs": [
        {
          "output_type": "stream",
          "name": "stdout",
          "text": [
            "Text sentence before pre-processing:\n",
            " Over 4 Million Americans Roll Up Sleeves For Omicron-Targeted COVID Boosters Health experts said it is too early to predict whether demand would match up with the 171 million doses of the new boosters the U.S. ordered for the fall.\n",
            "---------------------------------------------------------------------------------------------------------\n",
            "Text sentence after pre-processing:\n",
            " million americans roll sleeves omicrontargeted covid boosters health experts say early predict whether demand match million dose new boosters us order fall\n"
          ]
        }
      ],
      "source": [
        "# Example of pre-processing using above function\n",
        "print(\"Text sentence before pre-processing:\\n\", balanced_training_df['concat_feature'][0])\n",
        "print(\"---\"*35)\n",
        "print(\"Text sentence after pre-processing:\\n\", datacleaning(balanced_training_df['concat_feature'][0]))"
      ]
    },
    {
      "cell_type": "code",
      "execution_count": 135,
      "metadata": {
        "id": "sACsJWZD5vDy"
      },
      "outputs": [],
      "source": [
        "# apply datacleaning function to concatenated feature column 'concat_feature'\n",
        "balanced_training_df['concat_feature'] = balanced_training_df['concat_feature'].apply(datacleaning)"
      ]
    },
    {
      "cell_type": "code",
      "execution_count": 136,
      "metadata": {
        "colab": {
          "base_uri": "https://localhost:8080/"
        },
        "id": "wRFmtweC5vDy",
        "outputId": "0a4dfd42-45f2-467c-f907-5a7d1608b44c"
      },
      "outputs": [
        {
          "output_type": "stream",
          "name": "stdout",
          "text": [
            "Old chracters length of text data: 35265657\n",
            "New chracters length of text data: 21934319\n"
          ]
        }
      ],
      "source": [
        "# length of total characters before and after cleaning text data\n",
        "old_length = training_df['concat_feature'].apply(len).sum()\n",
        "new_length = balanced_training_df['concat_feature'].apply(len).sum()\n",
        "print(f\"Old chracters length of text data: {old_length}\")\n",
        "print(f\"New chracters length of text data: {new_length}\")"
      ]
    },
    {
      "cell_type": "code",
      "execution_count": 137,
      "metadata": {
        "colab": {
          "base_uri": "https://localhost:8080/"
        },
        "id": "G1ptQFpW5vDz",
        "outputId": "f00382e5-e775-4936-d43d-cbc366afd61f"
      },
      "outputs": [
        {
          "output_type": "stream",
          "name": "stdout",
          "text": [
            "Old word length of text data: 5951893\n",
            "New word length of text data: 3229604\n"
          ]
        }
      ],
      "source": [
        "# length of total words before and after cleaning text data\n",
        "old_text = training_df['concat_feature'].apply(lambda x: len([i for i in x.split()])).sum()\n",
        "new_text = balanced_training_df['concat_feature'].apply(lambda x: len([i for i in x.split()])).sum()\n",
        "print(f\"Old word length of text data: {old_text}\")\n",
        "print(f\"New word length of text data: {new_text}\")"
      ]
    },
    {
      "cell_type": "code",
      "source": [
        "balanced_training_df.nunique()"
      ],
      "metadata": {
        "colab": {
          "base_uri": "https://localhost:8080/"
        },
        "id": "K-BLAfO3Tms3",
        "outputId": "9c1298d1-6777-4950-8b50-90718e61abfa"
      },
      "execution_count": 138,
      "outputs": [
        {
          "output_type": "execute_result",
          "data": {
            "text/plain": [
              "Unnamed: 0        173814\n",
              "category              42\n",
              "concat_feature    173180\n",
              "dtype: int64"
            ]
          },
          "metadata": {},
          "execution_count": 138
        }
      ]
    },
    {
      "cell_type": "markdown",
      "metadata": {
        "id": "K810wYou5vDz"
      },
      "source": [
        "# 2. Tokenization and vectorization\n",
        "\n",
        "<a id=\"tv\"></a>\n"
      ]
    },
    {
      "cell_type": "markdown",
      "metadata": {
        "id": "aVYu9pA-5vD0"
      },
      "source": [
        "### Some of the most common NLP terminologies\n",
        "\n",
        "**1. Document**\n",
        "- Each and every training example used in text dataset known as a Document.\n",
        "\n",
        "**2. Corpus**\n",
        "- Collections of documents called as a corpus of text data\n",
        "\n",
        "**3. Vocabulary(BoW)**\n",
        "- Vocabulary or Bag-of-words is nothing but number of unique words are present in text corpus.\n",
        "\n",
        "**4. Stop words**\n",
        "- Stop words are those used most commonly in any language, e.g. 'the', 'a', etc. they do not form any meaning to the context of the text\n",
        "\n",
        "**5. N-grams**\n",
        "- N-grams is text representation in form of N words sequences to extract meaning and context out of each sentences or paragraphs.\n",
        "\n",
        "**6. Tokenization**\n",
        "- It's an early step in NLP process to split text sentences into smaller words or tokens.\n",
        "\n",
        "**7. Vectorization**\n",
        "- Machine do not understand text or words, so text data or tokens must be converted to corrospinding word index or word vectors in order process text and build models. process of converting tokenized words into numerical vectors called as a vectorization."
      ]
    },
    {
      "cell_type": "markdown",
      "metadata": {
        "id": "IXvML8Ki5vD0"
      },
      "source": [
        "### One-hot encoding and word-indexing example on chunk of data"
      ]
    },
    {
      "cell_type": "code",
      "execution_count": 140,
      "metadata": {
        "colab": {
          "base_uri": "https://localhost:8080/"
        },
        "id": "776ZBGQY5vD0",
        "outputId": "f86f8c3c-2c86-4c09-83b3-dbd144e19330"
      },
      "outputs": [
        {
          "output_type": "stream",
          "name": "stdout",
          "text": [
            "Shape of stored results array: (5, 15, 91)\n",
            "Token index of unique words: \n",
            " {'passengers': 1, 'accidentally': 2, 'lose': 3, 'airlines': 4, 'subdue': 5, 'los': 6, 'million': 7, 'demand': 8, 'americans': 9, 'order': 10, 'life': 11, 'reaper': 12, 'accuse': 13, 'carolina': 14, 'scream': 15, 'sept': 16, 'racist': 17, 'fire': 18, 'us': 19, 'attendant': 20, 'dip': 21, 'cooper': 22, 'tabasco': 23, 'flight': 24, 'amy': 25, 'put': 26, 'dog': 27, 'video': 28, 'call': 29, 'exemployer': 30, 'black': 31, 'understand': 32, 'new': 33, 'aircraft': 34, 'attorneys': 35, 'encounter': 36, 'sleeves': 37, 'funniest': 38, 'covid': 39, 'toothbrush': 40, 'cop': 41, 'ban': 42, 'week': 43, 'teeth': 44, 'templeton': 45, 'accord': 46, 'experts': 47, 'tweet': 48, 'lawsuit': 49, 'firm': 50, 'health': 51, 'clean': 52, 'investment': 53, 'office': 54, 'say': 55, 'franklin': 56, 'cat': 57, 'brand': 58, 'match': 59, 'woman': 60, 'omicrontargeted': 61, 'whether': 62, 'eat': 63, 'angeles': 64, 'central': 65, 'parent': 66, 'crew': 67, 'park': 68, 'birdwatcher': 69, 'go': 70, 'roll': 71, 'toothpaste': 72, 'grownup': 73, 'predict': 74, 'toddlers': 75, 'flyer': 76, 'back': 77, 'flee': 78, 'viral': 79, 'punch': 80, 'dont': 81, 'early': 82, 'charge': 83, 'unfairly': 84, 'sauce': 85, 'dose': 86, 'boosters': 87, 'confrontation': 88, 'american': 89, 'fall': 90}\n"
          ]
        }
      ],
      "source": [
        "# tokenization and vectorization workflow\n",
        "# word level one-hot encoding for sample data\n",
        "\n",
        "samples = list(balanced_training_df['concat_feature'][:5].values)  # samples of first 5 documents of out dataset\n",
        "\n",
        "sample_corpus = ' '.join(samples)\n",
        "unique_words = set(sample_corpus.split())\n",
        "token_index = {}\n",
        "idx = 0\n",
        "for element in unique_words:\n",
        "  idx += 1\n",
        "  token_index[element] = idx\n",
        "            \n",
        "max_length = 15\n",
        "\n",
        "# one dimension for each sample\n",
        "# one dimension for each word\n",
        "# one dimension to one-hot encode word (tell which word)\n",
        "results = np.zeros(shape=(len(samples),   # results will be stored in this array\n",
        "                          max_length,\n",
        "                          max(token_index.values()) +1)) \n",
        "\n",
        "print(\"Shape of stored results array:\", results.shape)\n",
        "print(\"Token index of unique words: \\n\", token_index)\n",
        "\n",
        "for i, sample in enumerate(samples):\n",
        "    for j, word in list(enumerate(sample.split())):\n",
        "        if j == max_length:\n",
        "            break\n",
        "        index = token_index.get(word)\n",
        "        results[i,j,index] = 1"
      ]
    },
    {
      "cell_type": "markdown",
      "metadata": {
        "id": "2C4vS85m5vD1"
      },
      "source": [
        "### One-hot encoding and indexing of train and test data"
      ]
    },
    {
      "cell_type": "code",
      "source": [
        "tokenizer.get_config().keys()"
      ],
      "metadata": {
        "colab": {
          "base_uri": "https://localhost:8080/"
        },
        "id": "NjMIcFNjPDbp",
        "outputId": "1c4cdc07-9d21-43d5-c1c7-1532c99f29bd"
      },
      "execution_count": 141,
      "outputs": [
        {
          "output_type": "execute_result",
          "data": {
            "text/plain": [
              "dict_keys(['num_words', 'filters', 'lower', 'split', 'char_level', 'oov_token', 'document_count', 'word_counts', 'word_docs', 'index_docs', 'index_word', 'word_index'])"
            ]
          },
          "metadata": {},
          "execution_count": 141
        }
      ]
    },
    {
      "cell_type": "code",
      "execution_count": 142,
      "metadata": {
        "colab": {
          "base_uri": "https://localhost:8080/"
        },
        "id": "Mgo2PO0z5vD1",
        "outputId": "5b897ce6-9654-4ea0-c745-9b00576ec6a8"
      },
      "outputs": [
        {
          "output_type": "stream",
          "name": "stdout",
          "text": [
            "shape of input data:  (173814,)\n",
            "shape of target variable:  (173814,)\n",
            "each sample will be of:  174\n",
            "Length of word index: 84626\n"
          ]
        }
      ],
      "source": [
        "# one hot encoding using keras tokenizer and pad sequencing\n",
        "X = balanced_training_df['concat_feature']\n",
        "encoder = LabelEncoder()\n",
        "y = encoder.fit_transform(balanced_training_df[TARGET_COLUMN])\n",
        "print(\"shape of input data: \", X.shape)\n",
        "print(\"shape of target variable: \", y.shape)\n",
        "\n",
        "# each sample must of this length\n",
        "# samples longer will be truncated;\n",
        "# samples shorted will be padded\n",
        "max_len = int(X.apply(len).mean() + (1 * X.apply(len).std()))\n",
        "print(\"each sample will be of: \", max_len)\n",
        "\n",
        "X_train, X_test, y_train, y_test = train_test_split(X, y, test_size=0.20)\n",
        "\n",
        "tokenizer = Tokenizer(num_words=100000, oov_token='<00V>') \n",
        "tokenizer.fit_on_texts(X_train) # build the word index\n",
        "# padding X_train text input data\n",
        "train_seq = tokenizer.texts_to_sequences(X_train) # converts strings into integer lists\n",
        "train_padseq = pad_sequences(train_seq, maxlen=max_len) # pads the integer lists to 2D integer tensor \n",
        "\n",
        "# padding X_test text input data\n",
        "test_seq = tokenizer.texts_to_sequences(X_test)\n",
        "test_padseq = pad_sequences(test_seq, maxlen=max_len)\n",
        "\n",
        "word_index = tokenizer.word_index\n",
        "max_words = 150000  # total number of words to consider in embedding layer\n",
        "total_words = len(word_index)\n",
        "y_train = to_categorical(y_train, num_classes=42)\n",
        "y_test = to_categorical(y_test, num_classes=42)\n",
        "print(\"Length of word index:\", total_words)"
      ]
    },
    {
      "cell_type": "raw",
      "metadata": {
        "id": "GpL31Uda5vD1"
      },
      "source": [
        "train_seq"
      ]
    },
    {
      "cell_type": "code",
      "execution_count": 143,
      "metadata": {
        "colab": {
          "base_uri": "https://localhost:8080/"
        },
        "id": "Qr0w0FQABv7Y",
        "outputId": "08bb233b-960a-4c20-b532-9c75ebf99b59"
      },
      "outputs": [
        {
          "output_type": "stream",
          "name": "stdout",
          "text": [
            "First sample of training data (feature):  million americans roll sleeves omicrontargeted covid boosters health experts say early predict whether demand match million dose new boosters us order fall\n",
            "First sample of training data (target):  [0. 0. 0. 0. 0. 0. 0. 0. 0. 0. 0. 0. 0. 0. 0. 0. 0. 0. 0. 0. 0. 0. 0. 0.\n",
            " 0. 0. 0. 0. 0. 0. 0. 0. 0. 0. 0. 0. 0. 0. 1. 0. 0. 0.]\n",
            "Number of words in first sample of training data:  22\n",
            "Length of (a) sample:  174  which is equal to  174\n",
            "Padded sequence:  [    0     0     0     0     0     0     0     0     0     0     0     0\n",
            "     0     0     0     0     0     0     0     0     0     0     0     0\n",
            "     0     0     0     0     0     0     0     0     0     0     0     0\n",
            "     0     0     0     0     0     0     0     0     0     0     0     0\n",
            "     0     0     0     0     0     0     0     0     0     0     0     0\n",
            "     0     0     0     0     0     0     0     0     0     0     0     0\n",
            "     0     0     0     0     0     0     0     0     0     0     0     0\n",
            "     0     0     0     0     0     0     0     0     0     0     0     0\n",
            "     0     0     0     0     0     0     0     0     0     0     0     0\n",
            "     0     0     0     0     0     0     0     0     0     0     0     0\n",
            "     0     0     0     0     0     0     0     0     0     0     0     0\n",
            "     0     0     0     0     0     0     0     0     0     0     0     0\n",
            "     0     0     0     0     0  2761   478  2761    28    12     7   758\n",
            "    48 33325  3340  4920   634  1196 12091  9304   689    13   727   425\n",
            "     8   898  2510  1622  2813    28]\n"
          ]
        }
      ],
      "source": [
        "print(\"First sample of training data (feature): \", X_train[0])\n",
        "print(\"First sample of training data (target): \", y_train[0])\n",
        "\n",
        "print(\"Number of words in first sample of training data: \", len(X_train[0].split()))\n",
        "print(\"Length of (a) sample: \", len(train_padseq[0]), \" which is equal to \", max_len)\n",
        "print(\"Padded sequence: \", train_padseq[0])"
      ]
    },
    {
      "cell_type": "markdown",
      "metadata": {
        "id": "flkvt3-R5vD5"
      },
      "source": [
        "# 3. What are the Wordembeddings?\n",
        "\n",
        "<a id=\"we\"></a>\n",
        "\n",
        "\n",
        "> A word embedding is a learned representation for text where words that have the same meaning and save similar representation\n",
        "\n",
        "Reference:- [Machinelearningmastery](https://machinelearningmastery.com/what-are-word-embeddings/)\n",
        "\n",
        "- This approach to representing words and documents that may be considered one of the key breakthroughs of deep learning on chllengin NLP problems\n",
        "- Word embeddings are alternative to one-hot encoding along with dimensionality reduction\n",
        "\n",
        "> One-hot word vectors - Sparse, High-dimensional and Hard-coded \n",
        "\n",
        "> Word embeddings - Dense, Lower-Dimensional and Learned from the data\n",
        "\n",
        "- Keras library has embeddings layer which does word representation of given text corpus \n",
        "\n",
        "**tf.keras.layers.Embedding(\n",
        "    input_dim,\n",
        "    output_dim,\n",
        "    embeddings_initializer='uniform',\n",
        "    embeddings_regularizer=None,\n",
        "    activity_regularizer=None,\n",
        "    embeddings_constraint=None,\n",
        "    mask_zero=False,\n",
        "    input_length=None,\n",
        "    **kwargs\n",
        ")**\n",
        "\n",
        "**Key Arguments:**\n",
        "\n",
        "1) input_dim - Size of vocabulary - length of word index\n",
        "\n",
        "2) output_dim - Output dimention of word representation\n",
        "\n",
        "3) input-length - max input sequence length of document\n",
        "\n",
        "**Visual depiction of word embeddings:-**\n",
        "\n",
        "![image.png](attachment:a3eee381-6949-47d3-b384-c42dff5e415b.png)"
      ]
    },
    {
      "cell_type": "markdown",
      "metadata": {
        "id": "4bjh8Qs65vD6"
      },
      "source": [
        "# 4. Model training using embedding layer and RNN (Baseline)\n",
        "\n",
        "<a id=\"rnn\"></a>\n"
      ]
    },
    {
      "cell_type": "markdown",
      "metadata": {
        "id": "1vqRANu-5vD6"
      },
      "source": [
        "## 4.1 Baseline model 1 with SimpleRNN and embedding layer\n",
        "\n",
        "<a id=\"base\"></a>\n"
      ]
    },
    {
      "cell_type": "code",
      "source": [
        "num_labels = training_df[TARGET_COLUMN].nunique()\n",
        "num_labels"
      ],
      "metadata": {
        "colab": {
          "base_uri": "https://localhost:8080/"
        },
        "id": "ijs68L2sSZI3",
        "outputId": "aa44841c-7938-44bc-ef93-b081dc32c9a9"
      },
      "execution_count": 144,
      "outputs": [
        {
          "output_type": "execute_result",
          "data": {
            "text/plain": [
              "42"
            ]
          },
          "metadata": {},
          "execution_count": 144
        }
      ]
    },
    {
      "cell_type": "code",
      "execution_count": 145,
      "metadata": {
        "colab": {
          "base_uri": "https://localhost:8080/"
        },
        "id": "KmOprzv45vD7",
        "outputId": "fb953b55-91e9-489e-f55a-adb6e8634c4e"
      },
      "outputs": [
        {
          "output_type": "stream",
          "name": "stdout",
          "text": [
            "Model: \"sequential_3\"\n",
            "_________________________________________________________________\n",
            " Layer (type)                Output Shape              Param #   \n",
            "=================================================================\n",
            " embedding_3 (Embedding)     (None, 174, 70)           5923820   \n",
            "                                                                 \n",
            " bidirectional_6 (Bidirectio  (None, 174, 128)         17280     \n",
            " nal)                                                            \n",
            "                                                                 \n",
            " bidirectional_7 (Bidirectio  (None, 174, 128)         24704     \n",
            " nal)                                                            \n",
            "                                                                 \n",
            " simple_rnn_11 (SimpleRNN)   (None, 32)                5152      \n",
            "                                                                 \n",
            " dropout_3 (Dropout)         (None, 32)                0         \n",
            "                                                                 \n",
            " dense_1 (Dense)             (None, 42)                1386      \n",
            "                                                                 \n",
            "=================================================================\n",
            "Total params: 5,972,342\n",
            "Trainable params: 5,972,342\n",
            "Non-trainable params: 0\n",
            "_________________________________________________________________\n"
          ]
        }
      ],
      "source": [
        " # basline model using embedding layers and simpleRNN\n",
        "model = Sequential()\n",
        "model.add(Embedding(total_words, 70, input_length=max_len))\n",
        "model.add(Bidirectional(SimpleRNN(64, dropout=0.1, recurrent_dropout=0.20, activation='tanh', return_sequences=True)))\n",
        "model.add(Bidirectional(SimpleRNN(64, dropout=0.1, recurrent_dropout=0.30, activation='tanh', return_sequences=True)))\n",
        "model.add(SimpleRNN(32, activation='tanh'))\n",
        "model.add(Dropout(0.2))\n",
        "model.add(Dense(num_labels, activation='softmax'))\n",
        "model.summary()"
      ]
    },
    {
      "cell_type": "markdown",
      "metadata": {
        "id": "IDDXaQps5vD7"
      },
      "source": [
        "## 4.2 What are the Recurrent Neural Networks??\n",
        "\n",
        "<a id=\"rnets\"></a>\n"
      ]
    },
    {
      "cell_type": "markdown",
      "metadata": {
        "id": "AkoYVnyd5vD7"
      },
      "source": [
        "- A major difference between densely connected neural network and recurrent nueral network, is that fully connected networks have no memory in units of each layer. while `recurrent nueral networks do store state of previous timestep or sequence` while assigning weights  to current input.\n",
        "\n",
        "- In RNNs, we `process inputs word by word or eye saccade but eye saccade` - while keeping memories of what came before in each cells. this gives fluid representation of sequences and gives nueral network a ability to capture context of sequence rather than absolute representation of words.\n",
        "\n",
        "> \"Recurrent nueral network processes sequences by iterating through the sequence elements and maintaining a a `state` containing information relative to what it has seen so far. In effect, an RNN is a type of nueral network that has an internal loop.\"\n",
        "\n",
        "-6.2 Understanding recurrent nueral network, Deep learning using python by chollat\n",
        "\n",
        "- See the below depiction of how RNNs learns the context of sequences.\n",
        "\n",
        "![image.png](attachment:25fc0e9b-bfe0-4f71-8e3c-6926763958fc.png)"
      ]
    },
    {
      "cell_type": "markdown",
      "metadata": {
        "id": "RSdUJSFq5vD8"
      },
      "source": [
        "- A visual dipiction of RNN cell with a loop and unrolled RNN cell.\n",
        "\n",
        "![image.png](attachment:fbc32ab6-09f9-4c63-a2f3-2b171d935796.png)"
      ]
    },
    {
      "cell_type": "code",
      "execution_count": null,
      "metadata": {
        "colab": {
          "base_uri": "https://localhost:8080/"
        },
        "id": "tqZKllGV5vD8",
        "outputId": "edd8fa75-35f6-4280-f057-3a68b37aaa69"
      },
      "outputs": [
        {
          "output_type": "stream",
          "name": "stdout",
          "text": [
            "Epoch 1/15\n",
            "625/870 [====================>.........] - ETA: 4:43 - loss: 3.4420 - accuracy: 0.0961"
          ]
        }
      ],
      "source": [
        "model.compile(optimizer='rmsprop',\n",
        "            loss='categorical_crossentropy',\n",
        "            metrics=['accuracy']\n",
        "            )\n",
        "# SETUP A EARLY STOPPING CALL and model check point API\n",
        "earlystopping = keras.callbacks.EarlyStopping(monitor='accuracy',\n",
        "                                             patience=5,\n",
        "                                              verbose=1,\n",
        "                                              mode='min'\n",
        "                                             )\n",
        "checkpointer = ModelCheckpoint(filepath='bestvalue',moniter='val_loss', verbose=0, save_best_only=True)\n",
        "callback_list = [checkpointer, earlystopping]\n",
        "\n",
        "# fit model to the data\n",
        "history = model.fit(train_padseq, y_train, \n",
        "                   batch_size=128, \n",
        "                    epochs=15, \n",
        "                    validation_split=0.2\n",
        "                   )\n",
        "\n",
        "# evalute the model\n",
        "test_loss, test_acc = model.evaluate(test_padseq, y_test, verbose=0)\n",
        "print(\"test loss and accuracy:\", test_loss, test_acc)"
      ]
    },
    {
      "cell_type": "markdown",
      "metadata": {
        "id": "6yKOfJ_J5vD9"
      },
      "source": [
        "**Notes:**\n",
        "\n",
        "- Experiment 1: \n",
        "Parameters: max_words=100000, output_dim=50, maxlen=50, epoch=10.\n",
        "Model is highly overfitting as training accuracy comes around 84% while test accuracy is barely 40%.\n",
        "\n",
        "- Experiment 2:\n",
        "Params: max_words=150000, out_dim=50, maxlen=80, epoch=10, added droput layers in RNN\n",
        "Model do not overfit but underfit and biased. val_acc comes again almost 39.3% while train accuracy is only 42%. model needs more parameters with more epochs\n",
        "\n",
        "- Experiment 3:\n",
        "Params: max_words=total_words, out_dim=70, maxlen=100, epoch=15, addding bidirection layer over both dropout RNN\n",
        "an improvement in train accuracy to 63% and val_accuracy to 49% max at epoch 13. after epoch 13 model started overfitting. (next step) model can be more complex with regularization, model is forgetting information after 3rd RNN layer due to lower number of units, this needs to be solved."
      ]
    },
    {
      "cell_type": "code",
      "execution_count": null,
      "metadata": {
        "id": "pXkL7eym5vD9"
      },
      "outputs": [],
      "source": [
        "#model.save(\"news_clf_exp03.h5\")"
      ]
    },
    {
      "cell_type": "markdown",
      "metadata": {
        "id": "us-Im5ou5vD-"
      },
      "source": [
        "## 4.3 Model 2, training using Conv1D, Bi-directional RNN, LSTMs and GRU layer\n",
        "\n",
        "<a id=\"model2\"></a>\n"
      ]
    },
    {
      "cell_type": "code",
      "execution_count": null,
      "metadata": {
        "colab": {
          "base_uri": "https://localhost:8080/"
        },
        "id": "nsmkpl4C5vD-",
        "outputId": "76622805-1796-4010-f480-adeef0a93c2e"
      },
      "outputs": [
        {
          "name": "stderr",
          "output_type": "stream",
          "text": [
            "WARNING:tensorflow:Layer lstm_2 will not use cuDNN kernels since it doesn't meet the criteria. It will use a generic GPU kernel as fallback when running on GPU.\n",
            "WARNING:tensorflow:Layer lstm_2 will not use cuDNN kernels since it doesn't meet the criteria. It will use a generic GPU kernel as fallback when running on GPU.\n",
            "WARNING:tensorflow:Layer lstm_2 will not use cuDNN kernels since it doesn't meet the criteria. It will use a generic GPU kernel as fallback when running on GPU.\n",
            "WARNING:tensorflow:Layer lstm_3 will not use cuDNN kernels since it doesn't meet the criteria. It will use a generic GPU kernel as fallback when running on GPU.\n",
            "WARNING:tensorflow:Layer lstm_3 will not use cuDNN kernels since it doesn't meet the criteria. It will use a generic GPU kernel as fallback when running on GPU.\n",
            "WARNING:tensorflow:Layer lstm_3 will not use cuDNN kernels since it doesn't meet the criteria. It will use a generic GPU kernel as fallback when running on GPU.\n",
            "WARNING:tensorflow:Layer gru_1 will not use cuDNN kernels since it doesn't meet the criteria. It will use a generic GPU kernel as fallback when running on GPU.\n"
          ]
        },
        {
          "name": "stdout",
          "output_type": "stream",
          "text": [
            "Model: \"sequential_3\"\n",
            "_________________________________________________________________\n",
            " Layer (type)                Output Shape              Param #   \n",
            "=================================================================\n",
            " embedding_3 (Embedding)     (None, 130, 100)          938200    \n",
            "                                                                 \n",
            " bidirectional_7 (Bidirectio  (None, 130, 128)         84480     \n",
            " nal)                                                            \n",
            "                                                                 \n",
            " bidirectional_8 (Bidirectio  (None, 130, 128)         98816     \n",
            " nal)                                                            \n",
            "                                                                 \n",
            " bidirectional_9 (Bidirectio  (None, 130, 128)         24704     \n",
            " nal)                                                            \n",
            "                                                                 \n",
            " conv1d_1 (Conv1D)           (None, 128, 72)           27720     \n",
            "                                                                 \n",
            " max_pooling1d_1 (MaxPooling  (None, 64, 72)           0         \n",
            " 1D)                                                             \n",
            "                                                                 \n",
            " simple_rnn_9 (SimpleRNN)    (None, 64, 64)            8768      \n",
            "                                                                 \n",
            " gru_1 (GRU)                 (None, 64)                24960     \n",
            "                                                                 \n",
            " dropout_3 (Dropout)         (None, 64)                0         \n",
            "                                                                 \n",
            " dense_3 (Dense)             (None, 42)                2730      \n",
            "                                                                 \n",
            "=================================================================\n",
            "Total params: 1,210,378\n",
            "Trainable params: 1,210,378\n",
            "Non-trainable params: 0\n",
            "_________________________________________________________________\n"
          ]
        }
      ],
      "source": [
        "model2 = Sequential()\n",
        "# input\n",
        "model2.add(Embedding(total_words, 100, input_length=max_len))\n",
        "\n",
        "model2.add(Bidirectional(LSTM(64, dropout=0.1, recurrent_dropout=0.10, activation='tanh', return_sequences=True)))\n",
        "model2.add(Bidirectional(LSTM(64, dropout=0.2, recurrent_dropout=0.20, activation='tanh', return_sequences=True)))\n",
        "model2.add(Bidirectional(SimpleRNN(64, dropout=0.2, recurrent_dropout=0.20, activation='tanh', return_sequences=True)))\n",
        "model2.add(Conv1D(72, 3, activation='relu'))\n",
        "model2.add(MaxPooling1D(2))\n",
        "model2.add(SimpleRNN(64, activation='tanh', dropout=0.2, recurrent_dropout=0.20, return_sequences=True))\n",
        "\n",
        "model2.add(GRU(64, recurrent_dropout=0.20, recurrent_regularizer='l1_l2'))\n",
        "\n",
        "# Randomly switches off neurons; decrease overfitting\n",
        "model2.add(Dropout(0.2))\n",
        "\n",
        "# Output\n",
        "model2.add(Dense(num_labels, activation='softmax'))\n",
        "model2.summary()"
      ]
    },
    {
      "cell_type": "code",
      "execution_count": null,
      "metadata": {
        "colab": {
          "base_uri": "https://localhost:8080/"
        },
        "id": "ZF5knCeh5vD-",
        "outputId": "6a38ec04-c17b-45c8-f36c-a306a092c38e"
      },
      "outputs": [
        {
          "name": "stdout",
          "output_type": "stream",
          "text": [
            "Epoch 1/15\n",
            "11/11 [==============================] - 56s 3s/step - loss: 9.4346 - accuracy: 0.1984 - val_loss: 7.8625 - val_accuracy: 0.2545\n",
            "Epoch 2/15\n",
            "11/11 [==============================] - 32s 3s/step - loss: 7.4665 - accuracy: 0.2493 - val_loss: 6.6076 - val_accuracy: 0.1946\n",
            "Epoch 3/15\n",
            "11/11 [==============================] - 32s 3s/step - loss: 6.3481 - accuracy: 0.2395 - val_loss: 5.6570 - val_accuracy: 0.2784\n",
            "Epoch 4/15\n",
            "11/11 [==============================] - 32s 3s/step - loss: 5.4855 - accuracy: 0.2575 - val_loss: 4.9178 - val_accuracy: 0.2425\n",
            "Epoch 5/15\n",
            "11/11 [==============================] - 32s 3s/step - loss: 4.7973 - accuracy: 0.2425 - val_loss: 4.2650 - val_accuracy: 0.1946\n",
            "Epoch 6/15\n",
            "11/11 [==============================] - 33s 3s/step - loss: 4.2087 - accuracy: 0.2448 - val_loss: 3.7715 - val_accuracy: 0.2934\n",
            "Epoch 7/15\n",
            "11/11 [==============================] - 31s 3s/step - loss: 3.7456 - accuracy: 0.2440 - val_loss: 3.4340 - val_accuracy: 0.2844\n",
            "Epoch 8/15\n",
            "11/11 [==============================] - 32s 3s/step - loss: 3.3393 - accuracy: 0.2784 - val_loss: 2.9792 - val_accuracy: 0.3623\n",
            "Epoch 9/15\n",
            "11/11 [==============================] - 32s 3s/step - loss: 2.8884 - accuracy: 0.3668 - val_loss: 2.6808 - val_accuracy: 0.3802\n",
            "Epoch 10/15\n",
            "11/11 [==============================] - 31s 3s/step - loss: 2.5226 - accuracy: 0.4124 - val_loss: 2.4583 - val_accuracy: 0.3772\n",
            "Epoch 11/15\n",
            "11/11 [==============================] - 32s 3s/step - loss: 2.2140 - accuracy: 0.4648 - val_loss: 2.4939 - val_accuracy: 0.3743\n",
            "Epoch 12/15\n",
            "11/11 [==============================] - 30s 3s/step - loss: 1.9810 - accuracy: 0.4903 - val_loss: 2.6093 - val_accuracy: 0.3204\n",
            "Epoch 13/15\n",
            "11/11 [==============================] - 31s 3s/step - loss: 1.7407 - accuracy: 0.5576 - val_loss: 2.4166 - val_accuracy: 0.3743\n",
            "Epoch 14/15\n",
            "11/11 [==============================] - 31s 3s/step - loss: 1.6535 - accuracy: 0.5464 - val_loss: 2.4287 - val_accuracy: 0.3473\n",
            "Epoch 15/15\n",
            "11/11 [==============================] - 37s 3s/step - loss: 1.5177 - accuracy: 0.5928 - val_loss: 2.7924 - val_accuracy: 0.2695\n",
            "test loss and accuracy: 3.02994441986084 0.2631579041481018\n"
          ]
        }
      ],
      "source": [
        "model2.compile(optimizer='rmsprop',\n",
        "              loss='categorical_crossentropy',\n",
        "              metrics=['accuracy']\n",
        "              )\n",
        "# SETUP A EARLY STOPPING CALL and model check point API\n",
        "earlystopping = keras.callbacks.EarlyStopping(monitor='accuracy',\n",
        "                                              patience=5,\n",
        "                                              verbose=1,\n",
        "                                              mode='min'\n",
        "                                              )\n",
        "checkpointer = ModelCheckpoint(filepath='bestvalue1',moniter='val_loss', verbose=0, save_best_only=True)\n",
        "callback_list = [checkpointer, earlystopping]\n",
        "\n",
        "# fit model to the data\n",
        "history2 = model2.fit(train_padseq, y_train, \n",
        "                     batch_size=128, \n",
        "                     epochs=15, \n",
        "                     validation_split=0.2,\n",
        "                     shuffle=True\n",
        "                    )\n",
        "\n",
        "# evalute the model\n",
        "test_loss2, test_acc2 = model2.evaluate(test_padseq, y_test, verbose=0)\n",
        "print(\"test loss and accuracy:\", test_loss2, test_acc2)"
      ]
    },
    {
      "cell_type": "markdown",
      "metadata": {
        "id": "g0GB8mwJ5vD-"
      },
      "source": [
        "**Notes:**\n",
        "\n",
        "- Experiment 4: params: max_words=total_words, out_dim=70, maxlen=100, epoch=15, in this case out train and test accuracy improved but model is again overfitting as train accuracy is at 74% while test accuray is at 49%. to avoid overfitting we need ot increase maxlen and output dimensions of vector and also adding CNN1D layer after 3rd RNN with gloablmax pooling with regularization should help, also GRU can be considered\n",
        "\n",
        "- Experiment 5: params: max_words=total_words, out_dim=100, maxlen=130, epoch=15, train accuracy=71%, test accuracy=49%, not any significant difference than previous model, (next up)add  GRU, cnn1d with globalmaxpooling at the end, with shuffling of train data and run the notebook again\n",
        "\n",
        "- Experiment 6: params: max_words=total_words, out_dim=100, maxlen=130, epoch=15, train accuracy=85%, test accuracy=50%, we used LSTMs and GRU to process long sequences and retain previous inputs at perticuler input. while train accuracy improved significantly, test accuracy is still at 50%, a marginal improvement. Text data is always hard problem owing distribution on inputs. NlP models generally requires huge data to gain maximum accuracy on testing data. pre-trained models like BERT, Roberta can be used to overcome these challanges.\\\\"
      ]
    },
    {
      "cell_type": "code",
      "execution_count": null,
      "metadata": {
        "colab": {
          "base_uri": "https://localhost:8080/"
        },
        "id": "dD8Ct9pEBTvs",
        "outputId": "4e6e48fc-7c5a-4c5d-a26f-13124f899b77"
      },
      "outputs": [
        {
          "data": {
            "text/plain": [
              "array([   0,    0,    0,    0,    0,    0,    0,    0,    0,    0,    0,\n",
              "          0,    0,    0,    0,    0,    0,    0,    0,    0,    0,    0,\n",
              "          0,    0,    0,    0,    0,    0,    0,    0,    0,    0,    0,\n",
              "          0,    0,    0,    0,    0,    0,    0,    0,    0,    0,    0,\n",
              "          0,    0,    0,    0,    0,    0,    0,    0,    0,    0,    0,\n",
              "          0,    0,    0,    0,    0,    0,    0,    0,    0,    0,    0,\n",
              "          0,    0,    0,    0,    0,    0,    0,    0,    0,    0,    0,\n",
              "          0,    0,    0,    0,    0,    0,    0,    0,    0,    0,    0,\n",
              "          0,    0,    0,    0,    0,    0,    0,    0,    0,    0,    0,\n",
              "          0,    0,    0,    0,    0,    0,    0,    0,    0,    0,  273,\n",
              "        336, 1103,  590, 7932,    6,    1,    2, 1889, 2305,  172,   46,\n",
              "         68,  182,   80,    2,  206,   11,  104, 1103,  336], dtype=int32)"
            ]
          },
          "execution_count": 82,
          "metadata": {},
          "output_type": "execute_result"
        }
      ],
      "source": [
        "test_padseq[0]"
      ]
    },
    {
      "cell_type": "code",
      "execution_count": null,
      "metadata": {
        "id": "C-o5jiOW5vD_"
      },
      "outputs": [],
      "source": [
        "model.save(\"new_clf_exp06.h5\")"
      ]
    },
    {
      "cell_type": "markdown",
      "metadata": {
        "id": "IE6Wyu1h5vD_"
      },
      "source": [
        "## 4.4 learning curve of model 2\n",
        "\n",
        "<a id=\"loss\"></a>\n"
      ]
    },
    {
      "cell_type": "code",
      "execution_count": null,
      "metadata": {
        "id": "AJ5NTkoBBlmP"
      },
      "outputs": [],
      "source": [
        "s = [\"fashion tips for young men\"]\n",
        "s_t = tokenizer.texts_to_sequences(s)\n",
        "padded = pad_sequences(s_t, maxlen=max_len)"
      ]
    },
    {
      "cell_type": "code",
      "execution_count": null,
      "metadata": {
        "colab": {
          "base_uri": "https://localhost:8080/"
        },
        "id": "G87EQofpBG72",
        "outputId": "0b863c11-a1ff-409d-9d33-4c29bca39c26"
      },
      "outputs": [
        {
          "name": "stdout",
          "output_type": "stream",
          "text": [
            "1/1 [==============================] - 0s 72ms/step\n"
          ]
        }
      ],
      "source": [
        "p = model.predict(padded)"
      ]
    },
    {
      "cell_type": "code",
      "execution_count": null,
      "metadata": {
        "colab": {
          "base_uri": "https://localhost:8080/"
        },
        "id": "H2OqRH8-C3Wn",
        "outputId": "4b66a3a6-e531-4efd-f862-a4ad333f7dbe"
      },
      "outputs": [
        {
          "data": {
            "text/plain": [
              "0.4129097"
            ]
          },
          "execution_count": 108,
          "metadata": {},
          "output_type": "execute_result"
        }
      ],
      "source": [
        "max(p[0])"
      ]
    },
    {
      "cell_type": "code",
      "execution_count": null,
      "metadata": {
        "colab": {
          "base_uri": "https://localhost:8080/"
        },
        "id": "xQetoN6OCIlu",
        "outputId": "90cf02c0-048b-4eb3-da5d-c88dd25336b5"
      },
      "outputs": [
        {
          "name": "stdout",
          "output_type": "stream",
          "text": [
            "6\n"
          ]
        }
      ],
      "source": [
        "for index, item in enumerate(p[0]):\n",
        "  if item > 0.4:\n",
        "    print(index)"
      ]
    },
    {
      "cell_type": "code",
      "execution_count": null,
      "metadata": {
        "colab": {
          "base_uri": "https://localhost:8080/"
        },
        "id": "siYNB715CVpc",
        "outputId": "7cc219d0-1d3b-4110-ffae-58ff058d3fbf"
      },
      "outputs": [
        {
          "data": {
            "text/plain": [
              "array(['ENTERTAINMENT'], dtype=object)"
            ]
          },
          "execution_count": 110,
          "metadata": {},
          "output_type": "execute_result"
        }
      ],
      "source": [
        "encoder.inverse_transform([6])"
      ]
    },
    {
      "cell_type": "code",
      "execution_count": null,
      "metadata": {
        "colab": {
          "base_uri": "https://localhost:8080/"
        },
        "id": "iZmKAkmMCCEd",
        "outputId": "ce02829a-3bb6-409b-8221-9dcaef93061d"
      },
      "outputs": [
        {
          "data": {
            "text/plain": [
              "0.53178215"
            ]
          },
          "execution_count": 90,
          "metadata": {},
          "output_type": "execute_result"
        }
      ],
      "source": [
        "max(p[0])"
      ]
    },
    {
      "cell_type": "code",
      "execution_count": null,
      "metadata": {
        "id": "QP3KiCNO5vEA"
      },
      "outputs": [],
      "source": [
        "def plot_loss_accuracy(history):\n",
        "\n",
        "    # create object of arrays of accuracy and loss\n",
        "    acc = history.history['accuracy']\n",
        "    val_acc = history.history['val_accuracy']\n",
        "    loss = history.history['loss']\n",
        "    val_loss = history.history['val_loss']\n",
        "    \n",
        "    # number of epochs in our model\n",
        "    epochs = range(1 ,len(acc) + 1)\n",
        "    \n",
        "    # call matplolib figure object and plot loss and accuracy curves\n",
        "    plt.figure(figsize=(15,6))\n",
        "    \n",
        "    plt.subplot(121)\n",
        "    plt.plot(epochs, acc, 'bo', label='Training acc')\n",
        "    plt.plot(epochs, val_acc, 'b', label='Validation acc')\n",
        "    plt.title(\"Training and validation accuracy\", fontsize=15)\n",
        "    plt.xlabel('epochs', fontsize=14)\n",
        "    plt.ylabel(\"accuracy\", fontsize=14)\n",
        "    plt.legend()\n",
        "    \n",
        "    plt.subplot(122)\n",
        "    plt.plot(epochs, loss, 'bo', label='Training loss')\n",
        "    plt.plot(epochs, val_loss, 'b', label='Validation loss')\n",
        "    plt.title(\"Training and validation loss\", fontsize=15)\n",
        "    plt.xlabel('epochs', fontsize=14)\n",
        "    plt.ylabel(\"loss\", fontsize=14)\n",
        "    plt.legend()\n",
        "    \n",
        "    plt.show()"
      ]
    },
    {
      "cell_type": "code",
      "execution_count": null,
      "metadata": {
        "id": "MOU7eSfM5vEA"
      },
      "outputs": [],
      "source": [
        "plot_loss_accuracy(history2)"
      ]
    },
    {
      "cell_type": "markdown",
      "metadata": {
        "id": "0Jcstch-5vEA"
      },
      "source": [
        "# 5. Conclusion\n",
        "\n",
        "<a id=\"conclude\"></a>\n",
        "\n",
        "\n",
        "1. In this notebook, we explored some of text data visualization techniques to derive insights out of text data and make use of them into model training.\n",
        "\n",
        "2. We built first model using simpleRNN and embedding layer of keras where we found maximum of 49% accuracy on test data and also noticed foregtting of model due to large sequences of inputs.\n",
        "\n",
        "3. In our second model, we trained model using LSTMs and GRU for retaining information of longer sequences. we could 'optimize' model as it improved accuracy of training data significantly but it could not 'generalize well' enough on unseen data."
      ]
    }
  ],
  "metadata": {
    "accelerator": "GPU",
    "colab": {
      "provenance": [],
      "include_colab_link": true
    },
    "gpuClass": "standard",
    "kernelspec": {
      "display_name": "Python 3",
      "language": "python",
      "name": "python3"
    },
    "language_info": {
      "codemirror_mode": {
        "name": "ipython",
        "version": 3
      },
      "file_extension": ".py",
      "mimetype": "text/x-python",
      "name": "python",
      "nbconvert_exporter": "python",
      "pygments_lexer": "ipython3",
      "version": "3.7.12"
    }
  },
  "nbformat": 4,
  "nbformat_minor": 0
}